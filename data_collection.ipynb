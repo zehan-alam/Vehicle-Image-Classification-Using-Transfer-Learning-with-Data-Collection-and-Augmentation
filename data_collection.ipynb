{
 "cells": [
  {
   "cell_type": "markdown",
   "metadata": {},
   "source": [
    "# Libraries Import"
   ]
  },
  {
   "cell_type": "code",
   "execution_count": 18,
   "metadata": {},
   "outputs": [],
   "source": [
    "from duckduckgo_search import DDGS\n",
    "from fastcore.all import *\n",
    "from fastdownload import download_url\n",
    "import requests\n",
    "from urllib.parse import urlsplit\n",
    "\n",
    "import matplotlib.pyplot as plt\n",
    "import cv2\n",
    "from sklearn.model_selection import train_test_split\n",
    "\n",
    "from pathlib import Path\n",
    "from time import sleep\n",
    "import sys\n",
    "import shutil\n",
    "import warnings\n",
    "warnings.filterwarnings(\"ignore\")\n",
    "# import socket\n",
    "# try:\n",
    "#     socket.setdefaulttimeout(1)\n",
    "#     socket.socket(socket.AF_INET, socket.SOCK_STREAM).connect(('1.1.1.1', 53))\n",
    "# except socket.error as ex: raise Exception(\"STOP: No internet. Click '>|' in top right and set 'Internet' switch to on\")"
   ]
  },
  {
   "cell_type": "markdown",
   "metadata": {},
   "source": [
    "# Downloading Images"
   ]
  },
  {
   "cell_type": "code",
   "execution_count": 9,
   "metadata": {},
   "outputs": [],
   "source": [
    "def search_images(term, max_images):\n",
    "    print(f\"\\nSearching for '{term}'\")\n",
    "    with DDGS() as ddgs:\n",
    "        search_results = ddgs.images(keywords=term)\n",
    "        search_results_list = list(search_results)\n",
    "        image_urls = [result.get(\"image\") for result in search_results_list[:max_images]]\n",
    "        return L(image_urls)"
   ]
  },
  {
   "cell_type": "code",
   "execution_count": 10,
   "metadata": {},
   "outputs": [],
   "source": [
    "# def download_images(dest, term, max_images):\n",
    "#     urls=search_images(term, max_images=max_images)\n",
    "#     for i,url in enumerate(urls):\n",
    "#         print(f'\\r{i+1}/{max_images} images downloading',end='',flush=True)\n",
    "#         file_path = dest / f\"{term.replace(' ', '_')}_{i+1}.jpg\"\n",
    "#         try:\n",
    "#             download_url(url, file_path, show_progress=False)\n",
    "#         except Exception as e:\n",
    "#             print(f\"\\nFailed to download {url}: {e}\")\n",
    "\n",
    "def download_images(dest, term, max_images, timeout=10):\n",
    "    urls = search_images(term, max_images=max_images)\n",
    "    for i, url in enumerate(urls):\n",
    "        print(f'\\r{i+1}/{max_images} images downloading', end='', flush=True)\n",
    "        file_extension = Path(urlsplit(url).path).suffix or '.jpg'\n",
    "        file_path = dest / f\"{term.replace(' ', '_')}_{i+1}{file_extension}\"\n",
    "        try:\n",
    "            response = requests.get(url, timeout=timeout)\n",
    "            with open(file_path, 'wb') as f:\n",
    "                f.write(response.content)\n",
    "        except requests.exceptions.RequestException as e:\n",
    "            print(f\"\\nFailed to download {url}: {e}\")\n",
    "            continue"
   ]
  },
  {
   "cell_type": "markdown",
   "metadata": {},
   "source": [
    "## Downloading using Dictionary"
   ]
  },
  {
   "cell_type": "code",
   "execution_count": 17,
   "metadata": {},
   "outputs": [
    {
     "name": "stdout",
     "output_type": "stream",
     "text": [
      "\n",
      "Searching for 'truck photos'\n",
      "50/50 images downloading\n",
      "Searching for 'pickup truck'\n",
      "3/50 images downloading\n",
      "Failed to download https://media.ed.edmunds-media.com/chevrolet/silverado-1500/2023/oem/2023_chevrolet_silverado-1500_crew-cab-pickup_high-country_fq_oem_1_1280.jpg: HTTPSConnectionPool(host='media.ed.edmunds-media.com', port=443): Read timed out. (read timeout=20)\n",
      "24/50 images downloading\n",
      "Failed to download http://cdn.carbuzz.com/gallery-images/1600/703000/700/703778.jpg: HTTPConnectionPool(host='cdn.carbuzz.com', port=80): Max retries exceeded with url: /gallery-images/1600/703000/700/703778.jpg (Caused by NewConnectionError('<urllib3.connection.HTTPConnection object at 0x30196da50>: Failed to establish a new connection: [Errno 8] nodename nor servname provided, or not known'))\n",
      "30/50 images downloading\n",
      "Failed to download http://cdn.carbuzz.com/gallery-images/1600/690000/800/690890.jpg: HTTPConnectionPool(host='cdn.carbuzz.com', port=80): Max retries exceeded with url: /gallery-images/1600/690000/800/690890.jpg (Caused by NewConnectionError('<urllib3.connection.HTTPConnection object at 0x30196c850>: Failed to establish a new connection: [Errno 8] nodename nor servname provided, or not known'))\n",
      "50/50 images downloading\n",
      "Searching for 'monster truck'\n",
      "50/50 images downloading\n",
      "Searching for 'delivery truck'\n",
      "9/50 images downloading\n",
      "Failed to download http://floridarestsupply.com/images/delivery-truck.jpg: HTTPSConnectionPool(host='floridarestsupply.com', port=443): Max retries exceeded with url: /images/delivery-truck.jpg (Caused by SSLError(SSLCertVerificationError(1, '[SSL: CERTIFICATE_VERIFY_FAILED] certificate verify failed: certificate has expired (_ssl.c:997)')))\n",
      "50/50 images downloading\n",
      "Searching for 'heavy truck'\n",
      "50/50 images downloading\n",
      "Searching for 'bus photos'\n",
      "50/50 images downloading\n",
      "Searching for 'school bus'\n",
      "35/50 images downloading\n",
      "Failed to download https://www.reynolds.k12.or.us/sites/default/files/imageattachments/rhs/page/2211/cropped_bus_1.jpg: ('Connection aborted.', RemoteDisconnected('Remote end closed connection without response'))\n",
      "50/50 images downloading\n",
      "Searching for 'city bus'\n",
      "50/50 images downloading\n",
      "Searching for 'coach bus'\n",
      "50/50 images downloading\n",
      "Searching for 'public transport bus'\n",
      "50/50 images downloading\n",
      "Searching for 'motorcycle photos'\n",
      "19/50 images downloading"
     ]
    },
    {
     "ename": "KeyboardInterrupt",
     "evalue": "",
     "output_type": "error",
     "traceback": [
      "\u001b[0;31m---------------------------------------------------------------------------\u001b[0m",
      "\u001b[0;31mKeyboardInterrupt\u001b[0m                         Traceback (most recent call last)",
      "Cell \u001b[0;32mIn[17], line 15\u001b[0m\n\u001b[1;32m     13\u001b[0m dest \u001b[38;5;241m=\u001b[39m path \u001b[38;5;241m/\u001b[39m vehicle\n\u001b[1;32m     14\u001b[0m dest\u001b[38;5;241m.\u001b[39mmkdir(exist_ok\u001b[38;5;241m=\u001b[39m\u001b[38;5;28;01mTrue\u001b[39;00m, parents\u001b[38;5;241m=\u001b[39m\u001b[38;5;28;01mTrue\u001b[39;00m)\n\u001b[0;32m---> 15\u001b[0m \u001b[43mdownload_images\u001b[49m\u001b[43m(\u001b[49m\u001b[43mdest\u001b[49m\u001b[43m,\u001b[49m\u001b[43m \u001b[49m\u001b[43mterm\u001b[49m\u001b[43m,\u001b[49m\u001b[43m \u001b[49m\u001b[43mmax_images\u001b[49m\u001b[38;5;241;43m=\u001b[39;49m\u001b[38;5;241;43m50\u001b[39;49m\u001b[43m,\u001b[49m\u001b[43m \u001b[49m\u001b[43mtimeout\u001b[49m\u001b[38;5;241;43m=\u001b[39;49m\u001b[38;5;241;43m20\u001b[39;49m\u001b[43m)\u001b[49m\n\u001b[1;32m     16\u001b[0m sleep(\u001b[38;5;241m10\u001b[39m)\n",
      "Cell \u001b[0;32mIn[10], line 17\u001b[0m, in \u001b[0;36mdownload_images\u001b[0;34m(dest, term, max_images, timeout)\u001b[0m\n\u001b[1;32m     15\u001b[0m file_path \u001b[38;5;241m=\u001b[39m dest \u001b[38;5;241m/\u001b[39m \u001b[38;5;124mf\u001b[39m\u001b[38;5;124m\"\u001b[39m\u001b[38;5;132;01m{\u001b[39;00mterm\u001b[38;5;241m.\u001b[39mreplace(\u001b[38;5;124m'\u001b[39m\u001b[38;5;124m \u001b[39m\u001b[38;5;124m'\u001b[39m,\u001b[38;5;250m \u001b[39m\u001b[38;5;124m'\u001b[39m\u001b[38;5;124m_\u001b[39m\u001b[38;5;124m'\u001b[39m)\u001b[38;5;132;01m}\u001b[39;00m\u001b[38;5;124m_\u001b[39m\u001b[38;5;132;01m{\u001b[39;00mi\u001b[38;5;241m+\u001b[39m\u001b[38;5;241m1\u001b[39m\u001b[38;5;132;01m}\u001b[39;00m\u001b[38;5;124m.jpg\u001b[39m\u001b[38;5;124m\"\u001b[39m\n\u001b[1;32m     16\u001b[0m \u001b[38;5;28;01mtry\u001b[39;00m:\n\u001b[0;32m---> 17\u001b[0m     response \u001b[38;5;241m=\u001b[39m \u001b[43mrequests\u001b[49m\u001b[38;5;241;43m.\u001b[39;49m\u001b[43mget\u001b[49m\u001b[43m(\u001b[49m\u001b[43murl\u001b[49m\u001b[43m,\u001b[49m\u001b[43m \u001b[49m\u001b[43mtimeout\u001b[49m\u001b[38;5;241;43m=\u001b[39;49m\u001b[43mtimeout\u001b[49m\u001b[43m)\u001b[49m\n\u001b[1;32m     18\u001b[0m     \u001b[38;5;28;01mwith\u001b[39;00m \u001b[38;5;28mopen\u001b[39m(file_path, \u001b[38;5;124m'\u001b[39m\u001b[38;5;124mwb\u001b[39m\u001b[38;5;124m'\u001b[39m) \u001b[38;5;28;01mas\u001b[39;00m f:\n\u001b[1;32m     19\u001b[0m         f\u001b[38;5;241m.\u001b[39mwrite(response\u001b[38;5;241m.\u001b[39mcontent)\n",
      "File \u001b[0;32m/opt/homebrew/Caskroom/miniforge/base/envs/py_projects/lib/python3.10/site-packages/requests/api.py:73\u001b[0m, in \u001b[0;36mget\u001b[0;34m(url, params, **kwargs)\u001b[0m\n\u001b[1;32m     62\u001b[0m \u001b[38;5;28;01mdef\u001b[39;00m \u001b[38;5;21mget\u001b[39m(url, params\u001b[38;5;241m=\u001b[39m\u001b[38;5;28;01mNone\u001b[39;00m, \u001b[38;5;241m*\u001b[39m\u001b[38;5;241m*\u001b[39mkwargs):\n\u001b[1;32m     63\u001b[0m \u001b[38;5;250m    \u001b[39m\u001b[38;5;124mr\u001b[39m\u001b[38;5;124;03m\"\"\"Sends a GET request.\u001b[39;00m\n\u001b[1;32m     64\u001b[0m \n\u001b[1;32m     65\u001b[0m \u001b[38;5;124;03m    :param url: URL for the new :class:`Request` object.\u001b[39;00m\n\u001b[0;32m   (...)\u001b[0m\n\u001b[1;32m     70\u001b[0m \u001b[38;5;124;03m    :rtype: requests.Response\u001b[39;00m\n\u001b[1;32m     71\u001b[0m \u001b[38;5;124;03m    \"\"\"\u001b[39;00m\n\u001b[0;32m---> 73\u001b[0m     \u001b[38;5;28;01mreturn\u001b[39;00m \u001b[43mrequest\u001b[49m\u001b[43m(\u001b[49m\u001b[38;5;124;43m\"\u001b[39;49m\u001b[38;5;124;43mget\u001b[39;49m\u001b[38;5;124;43m\"\u001b[39;49m\u001b[43m,\u001b[49m\u001b[43m \u001b[49m\u001b[43murl\u001b[49m\u001b[43m,\u001b[49m\u001b[43m \u001b[49m\u001b[43mparams\u001b[49m\u001b[38;5;241;43m=\u001b[39;49m\u001b[43mparams\u001b[49m\u001b[43m,\u001b[49m\u001b[43m \u001b[49m\u001b[38;5;241;43m*\u001b[39;49m\u001b[38;5;241;43m*\u001b[39;49m\u001b[43mkwargs\u001b[49m\u001b[43m)\u001b[49m\n",
      "File \u001b[0;32m/opt/homebrew/Caskroom/miniforge/base/envs/py_projects/lib/python3.10/site-packages/requests/api.py:59\u001b[0m, in \u001b[0;36mrequest\u001b[0;34m(method, url, **kwargs)\u001b[0m\n\u001b[1;32m     55\u001b[0m \u001b[38;5;66;03m# By using the 'with' statement we are sure the session is closed, thus we\u001b[39;00m\n\u001b[1;32m     56\u001b[0m \u001b[38;5;66;03m# avoid leaving sockets open which can trigger a ResourceWarning in some\u001b[39;00m\n\u001b[1;32m     57\u001b[0m \u001b[38;5;66;03m# cases, and look like a memory leak in others.\u001b[39;00m\n\u001b[1;32m     58\u001b[0m \u001b[38;5;28;01mwith\u001b[39;00m sessions\u001b[38;5;241m.\u001b[39mSession() \u001b[38;5;28;01mas\u001b[39;00m session:\n\u001b[0;32m---> 59\u001b[0m     \u001b[38;5;28;01mreturn\u001b[39;00m \u001b[43msession\u001b[49m\u001b[38;5;241;43m.\u001b[39;49m\u001b[43mrequest\u001b[49m\u001b[43m(\u001b[49m\u001b[43mmethod\u001b[49m\u001b[38;5;241;43m=\u001b[39;49m\u001b[43mmethod\u001b[49m\u001b[43m,\u001b[49m\u001b[43m \u001b[49m\u001b[43murl\u001b[49m\u001b[38;5;241;43m=\u001b[39;49m\u001b[43murl\u001b[49m\u001b[43m,\u001b[49m\u001b[43m \u001b[49m\u001b[38;5;241;43m*\u001b[39;49m\u001b[38;5;241;43m*\u001b[39;49m\u001b[43mkwargs\u001b[49m\u001b[43m)\u001b[49m\n",
      "File \u001b[0;32m/opt/homebrew/Caskroom/miniforge/base/envs/py_projects/lib/python3.10/site-packages/requests/sessions.py:587\u001b[0m, in \u001b[0;36mSession.request\u001b[0;34m(self, method, url, params, data, headers, cookies, files, auth, timeout, allow_redirects, proxies, hooks, stream, verify, cert, json)\u001b[0m\n\u001b[1;32m    582\u001b[0m send_kwargs \u001b[38;5;241m=\u001b[39m {\n\u001b[1;32m    583\u001b[0m     \u001b[38;5;124m\"\u001b[39m\u001b[38;5;124mtimeout\u001b[39m\u001b[38;5;124m\"\u001b[39m: timeout,\n\u001b[1;32m    584\u001b[0m     \u001b[38;5;124m\"\u001b[39m\u001b[38;5;124mallow_redirects\u001b[39m\u001b[38;5;124m\"\u001b[39m: allow_redirects,\n\u001b[1;32m    585\u001b[0m }\n\u001b[1;32m    586\u001b[0m send_kwargs\u001b[38;5;241m.\u001b[39mupdate(settings)\n\u001b[0;32m--> 587\u001b[0m resp \u001b[38;5;241m=\u001b[39m \u001b[38;5;28;43mself\u001b[39;49m\u001b[38;5;241;43m.\u001b[39;49m\u001b[43msend\u001b[49m\u001b[43m(\u001b[49m\u001b[43mprep\u001b[49m\u001b[43m,\u001b[49m\u001b[43m \u001b[49m\u001b[38;5;241;43m*\u001b[39;49m\u001b[38;5;241;43m*\u001b[39;49m\u001b[43msend_kwargs\u001b[49m\u001b[43m)\u001b[49m\n\u001b[1;32m    589\u001b[0m \u001b[38;5;28;01mreturn\u001b[39;00m resp\n",
      "File \u001b[0;32m/opt/homebrew/Caskroom/miniforge/base/envs/py_projects/lib/python3.10/site-packages/requests/sessions.py:745\u001b[0m, in \u001b[0;36mSession.send\u001b[0;34m(self, request, **kwargs)\u001b[0m\n\u001b[1;32m    742\u001b[0m         \u001b[38;5;28;01mpass\u001b[39;00m\n\u001b[1;32m    744\u001b[0m \u001b[38;5;28;01mif\u001b[39;00m \u001b[38;5;129;01mnot\u001b[39;00m stream:\n\u001b[0;32m--> 745\u001b[0m     \u001b[43mr\u001b[49m\u001b[38;5;241;43m.\u001b[39;49m\u001b[43mcontent\u001b[49m\n\u001b[1;32m    747\u001b[0m \u001b[38;5;28;01mreturn\u001b[39;00m r\n",
      "File \u001b[0;32m/opt/homebrew/Caskroom/miniforge/base/envs/py_projects/lib/python3.10/site-packages/requests/models.py:899\u001b[0m, in \u001b[0;36mResponse.content\u001b[0;34m(self)\u001b[0m\n\u001b[1;32m    897\u001b[0m         \u001b[38;5;28mself\u001b[39m\u001b[38;5;241m.\u001b[39m_content \u001b[38;5;241m=\u001b[39m \u001b[38;5;28;01mNone\u001b[39;00m\n\u001b[1;32m    898\u001b[0m     \u001b[38;5;28;01melse\u001b[39;00m:\n\u001b[0;32m--> 899\u001b[0m         \u001b[38;5;28mself\u001b[39m\u001b[38;5;241m.\u001b[39m_content \u001b[38;5;241m=\u001b[39m \u001b[38;5;124;43mb\u001b[39;49m\u001b[38;5;124;43m\"\u001b[39;49m\u001b[38;5;124;43m\"\u001b[39;49m\u001b[38;5;241;43m.\u001b[39;49m\u001b[43mjoin\u001b[49m\u001b[43m(\u001b[49m\u001b[38;5;28;43mself\u001b[39;49m\u001b[38;5;241;43m.\u001b[39;49m\u001b[43miter_content\u001b[49m\u001b[43m(\u001b[49m\u001b[43mCONTENT_CHUNK_SIZE\u001b[49m\u001b[43m)\u001b[49m\u001b[43m)\u001b[49m \u001b[38;5;129;01mor\u001b[39;00m \u001b[38;5;124mb\u001b[39m\u001b[38;5;124m\"\u001b[39m\u001b[38;5;124m\"\u001b[39m\n\u001b[1;32m    901\u001b[0m \u001b[38;5;28mself\u001b[39m\u001b[38;5;241m.\u001b[39m_content_consumed \u001b[38;5;241m=\u001b[39m \u001b[38;5;28;01mTrue\u001b[39;00m\n\u001b[1;32m    902\u001b[0m \u001b[38;5;66;03m# don't need to release the connection; that's been handled by urllib3\u001b[39;00m\n\u001b[1;32m    903\u001b[0m \u001b[38;5;66;03m# since we exhausted the data.\u001b[39;00m\n",
      "File \u001b[0;32m/opt/homebrew/Caskroom/miniforge/base/envs/py_projects/lib/python3.10/site-packages/requests/models.py:816\u001b[0m, in \u001b[0;36mResponse.iter_content.<locals>.generate\u001b[0;34m()\u001b[0m\n\u001b[1;32m    814\u001b[0m \u001b[38;5;28;01mif\u001b[39;00m \u001b[38;5;28mhasattr\u001b[39m(\u001b[38;5;28mself\u001b[39m\u001b[38;5;241m.\u001b[39mraw, \u001b[38;5;124m\"\u001b[39m\u001b[38;5;124mstream\u001b[39m\u001b[38;5;124m\"\u001b[39m):\n\u001b[1;32m    815\u001b[0m     \u001b[38;5;28;01mtry\u001b[39;00m:\n\u001b[0;32m--> 816\u001b[0m         \u001b[38;5;28;01myield from\u001b[39;00m \u001b[38;5;28mself\u001b[39m\u001b[38;5;241m.\u001b[39mraw\u001b[38;5;241m.\u001b[39mstream(chunk_size, decode_content\u001b[38;5;241m=\u001b[39m\u001b[38;5;28;01mTrue\u001b[39;00m)\n\u001b[1;32m    817\u001b[0m     \u001b[38;5;28;01mexcept\u001b[39;00m ProtocolError \u001b[38;5;28;01mas\u001b[39;00m e:\n\u001b[1;32m    818\u001b[0m         \u001b[38;5;28;01mraise\u001b[39;00m ChunkedEncodingError(e)\n",
      "File \u001b[0;32m/opt/homebrew/Caskroom/miniforge/base/envs/py_projects/lib/python3.10/site-packages/urllib3/response.py:628\u001b[0m, in \u001b[0;36mHTTPResponse.stream\u001b[0;34m(self, amt, decode_content)\u001b[0m\n\u001b[1;32m    626\u001b[0m \u001b[38;5;28;01melse\u001b[39;00m:\n\u001b[1;32m    627\u001b[0m     \u001b[38;5;28;01mwhile\u001b[39;00m \u001b[38;5;129;01mnot\u001b[39;00m is_fp_closed(\u001b[38;5;28mself\u001b[39m\u001b[38;5;241m.\u001b[39m_fp):\n\u001b[0;32m--> 628\u001b[0m         data \u001b[38;5;241m=\u001b[39m \u001b[38;5;28;43mself\u001b[39;49m\u001b[38;5;241;43m.\u001b[39;49m\u001b[43mread\u001b[49m\u001b[43m(\u001b[49m\u001b[43mamt\u001b[49m\u001b[38;5;241;43m=\u001b[39;49m\u001b[43mamt\u001b[49m\u001b[43m,\u001b[49m\u001b[43m \u001b[49m\u001b[43mdecode_content\u001b[49m\u001b[38;5;241;43m=\u001b[39;49m\u001b[43mdecode_content\u001b[49m\u001b[43m)\u001b[49m\n\u001b[1;32m    630\u001b[0m         \u001b[38;5;28;01mif\u001b[39;00m data:\n\u001b[1;32m    631\u001b[0m             \u001b[38;5;28;01myield\u001b[39;00m data\n",
      "File \u001b[0;32m/opt/homebrew/Caskroom/miniforge/base/envs/py_projects/lib/python3.10/site-packages/urllib3/response.py:567\u001b[0m, in \u001b[0;36mHTTPResponse.read\u001b[0;34m(self, amt, decode_content, cache_content)\u001b[0m\n\u001b[1;32m    564\u001b[0m fp_closed \u001b[38;5;241m=\u001b[39m \u001b[38;5;28mgetattr\u001b[39m(\u001b[38;5;28mself\u001b[39m\u001b[38;5;241m.\u001b[39m_fp, \u001b[38;5;124m\"\u001b[39m\u001b[38;5;124mclosed\u001b[39m\u001b[38;5;124m\"\u001b[39m, \u001b[38;5;28;01mFalse\u001b[39;00m)\n\u001b[1;32m    566\u001b[0m \u001b[38;5;28;01mwith\u001b[39;00m \u001b[38;5;28mself\u001b[39m\u001b[38;5;241m.\u001b[39m_error_catcher():\n\u001b[0;32m--> 567\u001b[0m     data \u001b[38;5;241m=\u001b[39m \u001b[38;5;28;43mself\u001b[39;49m\u001b[38;5;241;43m.\u001b[39;49m\u001b[43m_fp_read\u001b[49m\u001b[43m(\u001b[49m\u001b[43mamt\u001b[49m\u001b[43m)\u001b[49m \u001b[38;5;28;01mif\u001b[39;00m \u001b[38;5;129;01mnot\u001b[39;00m fp_closed \u001b[38;5;28;01melse\u001b[39;00m \u001b[38;5;124mb\u001b[39m\u001b[38;5;124m\"\u001b[39m\u001b[38;5;124m\"\u001b[39m\n\u001b[1;32m    568\u001b[0m     \u001b[38;5;28;01mif\u001b[39;00m amt \u001b[38;5;129;01mis\u001b[39;00m \u001b[38;5;28;01mNone\u001b[39;00m:\n\u001b[1;32m    569\u001b[0m         flush_decoder \u001b[38;5;241m=\u001b[39m \u001b[38;5;28;01mTrue\u001b[39;00m\n",
      "File \u001b[0;32m/opt/homebrew/Caskroom/miniforge/base/envs/py_projects/lib/python3.10/site-packages/urllib3/response.py:533\u001b[0m, in \u001b[0;36mHTTPResponse._fp_read\u001b[0;34m(self, amt)\u001b[0m\n\u001b[1;32m    530\u001b[0m     \u001b[38;5;28;01mreturn\u001b[39;00m buffer\u001b[38;5;241m.\u001b[39mgetvalue()\n\u001b[1;32m    531\u001b[0m \u001b[38;5;28;01melse\u001b[39;00m:\n\u001b[1;32m    532\u001b[0m     \u001b[38;5;66;03m# StringIO doesn't like amt=None\u001b[39;00m\n\u001b[0;32m--> 533\u001b[0m     \u001b[38;5;28;01mreturn\u001b[39;00m \u001b[38;5;28;43mself\u001b[39;49m\u001b[38;5;241;43m.\u001b[39;49m\u001b[43m_fp\u001b[49m\u001b[38;5;241;43m.\u001b[39;49m\u001b[43mread\u001b[49m\u001b[43m(\u001b[49m\u001b[43mamt\u001b[49m\u001b[43m)\u001b[49m \u001b[38;5;28;01mif\u001b[39;00m amt \u001b[38;5;129;01mis\u001b[39;00m \u001b[38;5;129;01mnot\u001b[39;00m \u001b[38;5;28;01mNone\u001b[39;00m \u001b[38;5;28;01melse\u001b[39;00m \u001b[38;5;28mself\u001b[39m\u001b[38;5;241m.\u001b[39m_fp\u001b[38;5;241m.\u001b[39mread()\n",
      "File \u001b[0;32m/opt/homebrew/Caskroom/miniforge/base/envs/py_projects/lib/python3.10/http/client.py:465\u001b[0m, in \u001b[0;36mHTTPResponse.read\u001b[0;34m(self, amt)\u001b[0m\n\u001b[1;32m    462\u001b[0m \u001b[38;5;28;01mif\u001b[39;00m \u001b[38;5;28mself\u001b[39m\u001b[38;5;241m.\u001b[39mlength \u001b[38;5;129;01mis\u001b[39;00m \u001b[38;5;129;01mnot\u001b[39;00m \u001b[38;5;28;01mNone\u001b[39;00m \u001b[38;5;129;01mand\u001b[39;00m amt \u001b[38;5;241m>\u001b[39m \u001b[38;5;28mself\u001b[39m\u001b[38;5;241m.\u001b[39mlength:\n\u001b[1;32m    463\u001b[0m     \u001b[38;5;66;03m# clip the read to the \"end of response\"\u001b[39;00m\n\u001b[1;32m    464\u001b[0m     amt \u001b[38;5;241m=\u001b[39m \u001b[38;5;28mself\u001b[39m\u001b[38;5;241m.\u001b[39mlength\n\u001b[0;32m--> 465\u001b[0m s \u001b[38;5;241m=\u001b[39m \u001b[38;5;28;43mself\u001b[39;49m\u001b[38;5;241;43m.\u001b[39;49m\u001b[43mfp\u001b[49m\u001b[38;5;241;43m.\u001b[39;49m\u001b[43mread\u001b[49m\u001b[43m(\u001b[49m\u001b[43mamt\u001b[49m\u001b[43m)\u001b[49m\n\u001b[1;32m    466\u001b[0m \u001b[38;5;28;01mif\u001b[39;00m \u001b[38;5;129;01mnot\u001b[39;00m s \u001b[38;5;129;01mand\u001b[39;00m amt:\n\u001b[1;32m    467\u001b[0m     \u001b[38;5;66;03m# Ideally, we would raise IncompleteRead if the content-length\u001b[39;00m\n\u001b[1;32m    468\u001b[0m     \u001b[38;5;66;03m# wasn't satisfied, but it might break compatibility.\u001b[39;00m\n\u001b[1;32m    469\u001b[0m     \u001b[38;5;28mself\u001b[39m\u001b[38;5;241m.\u001b[39m_close_conn()\n",
      "File \u001b[0;32m/opt/homebrew/Caskroom/miniforge/base/envs/py_projects/lib/python3.10/socket.py:705\u001b[0m, in \u001b[0;36mSocketIO.readinto\u001b[0;34m(self, b)\u001b[0m\n\u001b[1;32m    703\u001b[0m \u001b[38;5;28;01mwhile\u001b[39;00m \u001b[38;5;28;01mTrue\u001b[39;00m:\n\u001b[1;32m    704\u001b[0m     \u001b[38;5;28;01mtry\u001b[39;00m:\n\u001b[0;32m--> 705\u001b[0m         \u001b[38;5;28;01mreturn\u001b[39;00m \u001b[38;5;28;43mself\u001b[39;49m\u001b[38;5;241;43m.\u001b[39;49m\u001b[43m_sock\u001b[49m\u001b[38;5;241;43m.\u001b[39;49m\u001b[43mrecv_into\u001b[49m\u001b[43m(\u001b[49m\u001b[43mb\u001b[49m\u001b[43m)\u001b[49m\n\u001b[1;32m    706\u001b[0m     \u001b[38;5;28;01mexcept\u001b[39;00m timeout:\n\u001b[1;32m    707\u001b[0m         \u001b[38;5;28mself\u001b[39m\u001b[38;5;241m.\u001b[39m_timeout_occurred \u001b[38;5;241m=\u001b[39m \u001b[38;5;28;01mTrue\u001b[39;00m\n",
      "File \u001b[0;32m/opt/homebrew/Caskroom/miniforge/base/envs/py_projects/lib/python3.10/ssl.py:1274\u001b[0m, in \u001b[0;36mSSLSocket.recv_into\u001b[0;34m(self, buffer, nbytes, flags)\u001b[0m\n\u001b[1;32m   1270\u001b[0m     \u001b[38;5;28;01mif\u001b[39;00m flags \u001b[38;5;241m!=\u001b[39m \u001b[38;5;241m0\u001b[39m:\n\u001b[1;32m   1271\u001b[0m         \u001b[38;5;28;01mraise\u001b[39;00m \u001b[38;5;167;01mValueError\u001b[39;00m(\n\u001b[1;32m   1272\u001b[0m           \u001b[38;5;124m\"\u001b[39m\u001b[38;5;124mnon-zero flags not allowed in calls to recv_into() on \u001b[39m\u001b[38;5;132;01m%s\u001b[39;00m\u001b[38;5;124m\"\u001b[39m \u001b[38;5;241m%\u001b[39m\n\u001b[1;32m   1273\u001b[0m           \u001b[38;5;28mself\u001b[39m\u001b[38;5;241m.\u001b[39m\u001b[38;5;18m__class__\u001b[39m)\n\u001b[0;32m-> 1274\u001b[0m     \u001b[38;5;28;01mreturn\u001b[39;00m \u001b[38;5;28;43mself\u001b[39;49m\u001b[38;5;241;43m.\u001b[39;49m\u001b[43mread\u001b[49m\u001b[43m(\u001b[49m\u001b[43mnbytes\u001b[49m\u001b[43m,\u001b[49m\u001b[43m \u001b[49m\u001b[43mbuffer\u001b[49m\u001b[43m)\u001b[49m\n\u001b[1;32m   1275\u001b[0m \u001b[38;5;28;01melse\u001b[39;00m:\n\u001b[1;32m   1276\u001b[0m     \u001b[38;5;28;01mreturn\u001b[39;00m \u001b[38;5;28msuper\u001b[39m()\u001b[38;5;241m.\u001b[39mrecv_into(buffer, nbytes, flags)\n",
      "File \u001b[0;32m/opt/homebrew/Caskroom/miniforge/base/envs/py_projects/lib/python3.10/ssl.py:1130\u001b[0m, in \u001b[0;36mSSLSocket.read\u001b[0;34m(self, len, buffer)\u001b[0m\n\u001b[1;32m   1128\u001b[0m \u001b[38;5;28;01mtry\u001b[39;00m:\n\u001b[1;32m   1129\u001b[0m     \u001b[38;5;28;01mif\u001b[39;00m buffer \u001b[38;5;129;01mis\u001b[39;00m \u001b[38;5;129;01mnot\u001b[39;00m \u001b[38;5;28;01mNone\u001b[39;00m:\n\u001b[0;32m-> 1130\u001b[0m         \u001b[38;5;28;01mreturn\u001b[39;00m \u001b[38;5;28;43mself\u001b[39;49m\u001b[38;5;241;43m.\u001b[39;49m\u001b[43m_sslobj\u001b[49m\u001b[38;5;241;43m.\u001b[39;49m\u001b[43mread\u001b[49m\u001b[43m(\u001b[49m\u001b[38;5;28;43mlen\u001b[39;49m\u001b[43m,\u001b[49m\u001b[43m \u001b[49m\u001b[43mbuffer\u001b[49m\u001b[43m)\u001b[49m\n\u001b[1;32m   1131\u001b[0m     \u001b[38;5;28;01melse\u001b[39;00m:\n\u001b[1;32m   1132\u001b[0m         \u001b[38;5;28;01mreturn\u001b[39;00m \u001b[38;5;28mself\u001b[39m\u001b[38;5;241m.\u001b[39m_sslobj\u001b[38;5;241m.\u001b[39mread(\u001b[38;5;28mlen\u001b[39m)\n",
      "\u001b[0;31mKeyboardInterrupt\u001b[0m: "
     ]
    }
   ],
   "source": [
    "vehicles = {\n",
    "    'car': ['car photos', 'sports car', 'luxury car', 'classic car', 'car exterior'],\n",
    "    'truck': ['truck photos', 'pickup truck', 'monster truck', 'delivery truck', 'heavy truck'],\n",
    "    'bus': ['bus photos', 'school bus', 'city bus', 'coach bus', 'public transport bus'],\n",
    "    'motorcycle': ['motorcycle photos', 'sports motorcycle', 'cruiser motorcycle', 'vintage motorcycle', 'motorbike'],\n",
    "    'bicycle': ['bicycle photos', 'mountain bike', 'road bike', 'vintage bicycle', 'cycling bike']\n",
    "}\n",
    "\n",
    "path = Path('Vehicle New')\n",
    "\n",
    "for vehicle, terms in vehicles.items():\n",
    "    for term in terms:\n",
    "        dest = path / vehicle\n",
    "        dest.mkdir(exist_ok=True, parents=True)\n",
    "        download_images(dest, term, max_images=50, timeout=20)\n",
    "        sleep(10)"
   ]
  },
  {
   "cell_type": "markdown",
   "metadata": {},
   "source": [
    "## Downloading using Array"
   ]
  },
  {
   "cell_type": "code",
   "execution_count": null,
   "metadata": {},
   "outputs": [
    {
     "name": "stdout",
     "output_type": "stream",
     "text": [
      "\n",
      "Searching for 'Motorcycle dawn photo'\n",
      "15/64 images downloading\n",
      "Failed to download https://www.wallpapertip.com/wmimgs/251-2510439_wallpaper-motorcyclist-motorcycle-dawn-indonesia.jpg: <urlopen error [Errno 60] Operation timed out>\n",
      "53/64 images downloading\n",
      "Failed to download https://swmmotorcycles.com.au/wp-content/uploads/2019/12/DAWN_left_f.png: HTTP Error 403: Forbidden\n",
      "====Error Body====\n",
      "<!DOCTYPE html>\n",
      "<!--[if lt IE 7]> <html class=\"no-js ie6 oldie\" lang=\"en-US\"> <![endif]-->\n",
      "<!--[if IE 7]>    <html class=\"no-js ie7 oldie\" lang=\"en-US\"> <![endif]-->\n",
      "<!--[if IE 8]>    <html class=\"no-js ie8 oldie\" lang=\"en-US\"> <![endif]-->\n",
      "<!--[if gt IE 8]><!--> <html class=\"no-js\" lang=\"en-US\"> <!--<![endif]-->\n",
      "<head>\n",
      "<title>Attention Required! | Cloudflare</title>\n",
      "<meta charset=\"UTF-8\" />\n",
      "<meta http-equiv=\"Content-Type\" content=\"text/html; charset=UTF-8\" />\n",
      "<meta http-equiv=\"X-UA-Compatible\" content=\"IE=Edge\" />\n",
      "<meta name=\"robots\" content=\"noindex, nofollow\" />\n",
      "<meta name=\"viewport\" content=\"width=device-width,initial-scale=1\" />\n",
      "<link rel=\"stylesheet\" id=\"cf_styles-css\" href=\"/cdn-cgi/styles/cf.errors.css\" />\n",
      "<!--[if lt IE 9]><link rel=\"stylesheet\" id='cf_styles-ie-css' href=\"/cdn-cgi/styles/cf.errors.ie.css\" /><![endif]-->\n",
      "<style>body{margin:0;padding:0}</style>\n",
      "\n",
      "\n",
      "<!--[if gte IE 10]><!-->\n",
      "<script>\n",
      "  if (!navigator.cookieEnabled) {\n",
      "    window.addEventListener('DOMContentLoaded', function () {\n",
      "      var cookieEl = document.getElementById('cookie-alert');\n",
      "      cookieEl.style.display = 'block';\n",
      "    })\n",
      "  }\n",
      "</script>\n",
      "<!--<![endif]-->\n",
      "\n",
      "\n",
      "</head>\n",
      "<body>\n",
      "  <div id=\"cf-wrapper\">\n",
      "    <div class=\"cf-alert cf-alert-error cf-cookie-error\" id=\"cookie-alert\" data-translate=\"enable_cookies\">Please enable cookies.</div>\n",
      "    <div id=\"cf-error-details\" class=\"cf-error-details-wrapper\">\n",
      "      <div class=\"cf-wrapper cf-header cf-error-overview\">\n",
      "        <h1 data-translate=\"block_headline\">Sorry, you have been blocked</h1>\n",
      "        <h2 class=\"cf-subheadline\"><span data-translate=\"unable_to_access\">You are unable to access</span> swmmotorcycles.com.au</h2>\n",
      "      </div><!-- /.header -->\n",
      "\n",
      "      <div class=\"cf-section cf-highlight\">\n",
      "        <div class=\"cf-wrapper\">\n",
      "          <div class=\"cf-screenshot-container cf-screenshot-full\">\n",
      "            \n",
      "              <span class=\"cf-no-screenshot error\"></span>\n",
      "            \n",
      "          </div>\n",
      "        </div>\n",
      "      </div><!-- /.captcha-container -->\n",
      "\n",
      "      <div class=\"cf-section cf-wrapper\">\n",
      "        <div class=\"cf-columns two\">\n",
      "          <div class=\"cf-column\">\n",
      "            <h2 data-translate=\"blocked_why_headline\">Why have I been blocked?</h2>\n",
      "\n",
      "            <p data-translate=\"blocked_why_detail\">This website is using a security service to protect itself from online attacks. The action you just performed triggered the security solution. There are several actions that could trigger this block including submitting a certain word or phrase, a SQL command or malformed data.</p>\n",
      "          </div>\n",
      "\n",
      "          <div class=\"cf-column\">\n",
      "            <h2 data-translate=\"blocked_resolve_headline\">What can I do to resolve this?</h2>\n",
      "\n",
      "            <p data-translate=\"blocked_resolve_detail\">You can email the site owner to let them know you were blocked. Please include what you were doing when this page came up and the Cloudflare Ray ID found at the bottom of this page.</p>\n",
      "          </div>\n",
      "        </div>\n",
      "      </div><!-- /.section -->\n",
      "\n",
      "      <div class=\"cf-error-footer cf-wrapper w-240 lg:w-full py-10 sm:py-4 sm:px-8 mx-auto text-center sm:text-left border-solid border-0 border-t border-gray-300\">\n",
      "  <p class=\"text-13\">\n",
      "    <span class=\"cf-footer-item sm:block sm:mb-1\">Cloudflare Ray ID: <strong class=\"font-semibold\">8add718b1b35dff9</strong></span>\n",
      "    <span class=\"cf-footer-separator sm:hidden\">&bull;</span>\n",
      "    <span id=\"cf-footer-item-ip\" class=\"cf-footer-item hidden sm:block sm:mb-1\">\n",
      "      Your IP:\n",
      "      <button type=\"button\" id=\"cf-footer-ip-reveal\" class=\"cf-footer-ip-reveal-btn\">Click to reveal</button>\n",
      "      <span class=\"hidden\" id=\"cf-footer-ip\">116.204.154.48</span>\n",
      "      <span class=\"cf-footer-separator sm:hidden\">&bull;</span>\n",
      "    </span>\n",
      "    <span class=\"cf-footer-item sm:block sm:mb-1\"><span>Performance &amp; security by</span> <a rel=\"noopener noreferrer\" href=\"https://www.cloudflare.com/5xx-error-landing\" id=\"brand_link\" target=\"_blank\">Cloudflare</a></span>\n",
      "    \n",
      "  </p>\n",
      "  <script>(function(){function d(){var b=a.getElementById(\"cf-footer-item-ip\"),c=a.getElementById(\"cf-footer-ip-reveal\");b&&\"classList\"in b&&(b.classList.remove(\"hidden\"),c.addEventListener(\"click\",function(){c.classList.add(\"hidden\");a.getElementById(\"cf-footer-ip\").classList.remove(\"hidden\")}))}var a=document;document.addEventListener&&a.addEventListener(\"DOMContentLoaded\",d)})();</script>\n",
      "</div><!-- /.error-footer -->\n",
      "\n",
      "\n",
      "    </div><!-- /#cf-error-details -->\n",
      "  </div><!-- /#cf-wrapper -->\n",
      "\n",
      "  <script>\n",
      "  window._cf_translation = {};\n",
      "  \n",
      "  \n",
      "</script>\n",
      "\n",
      "</body>\n",
      "</html>\n",
      "\n",
      "64/64 images downloading\n",
      "Searching for 'Motorcycle overcast photo'\n",
      "17/64 images downloading\n",
      "Failed to download https://external-preview.redd.it/Oxr0rzR5GTkjHbGxCi6LuOb_P8S_5JjPJLFAgsUAlVk.jpg?auto=webp&s=0501be7a97263c405181b03a6390cc60d2d98d41: <urlopen error [Errno 60] Operation timed out>\n",
      "45/64 images downloading\n",
      "Failed to download https://wallpapercrafter.com/th8006/1564012-Bmw-K1200S-Motorcycle-bmw-k1200s-outdoors-no.jpg: HTTP Error 403: Forbidden\n",
      "====Error Body====\n",
      "<!DOCTYPE html><html lang=\"en-US\"><head><title>Just a moment...</title><meta http-equiv=\"Content-Type\" content=\"text/html; charset=UTF-8\"><meta http-equiv=\"X-UA-Compatible\" content=\"IE=Edge\"><meta name=\"robots\" content=\"noindex,nofollow\"><meta name=\"viewport\" content=\"width=device-width,initial-scale=1\"><style>*{box-sizing:border-box;margin:0;padding:0}html{line-height:1.15;-webkit-text-size-adjust:100%;color:#313131}button,html{font-family:system-ui,-apple-system,BlinkMacSystemFont,Segoe UI,Roboto,Helvetica Neue,Arial,Noto Sans,sans-serif,Apple Color Emoji,Segoe UI Emoji,Segoe UI Symbol,Noto Color Emoji}@media (prefers-color-scheme:dark){body{background-color:#222;color:#d9d9d9}body a{color:#fff}body a:hover{color:#ee730a;text-decoration:underline}body .lds-ring div{border-color:#999 transparent transparent}body .font-red{color:#b20f03}body .pow-button{background-color:#4693ff;color:#1d1d1d}body #challenge-success-text{background-image:url(data:image/svg+xml;base64,PHN2ZyB4bWxucz0iaHR0cDovL3d3dy53My5vcmcvMjAwMC9zdmciIHdpZHRoPSIzMiIgaGVpZ2h0PSIzMiIgZmlsbD0ibm9uZSIgdmlld0JveD0iMCAwIDI2IDI2Ij48cGF0aCBmaWxsPSIjZDlkOWQ5IiBkPSJNMTMgMGExMyAxMyAwIDEgMCAwIDI2IDEzIDEzIDAgMCAwIDAtMjZtMCAyNGExMSAxMSAwIDEgMSAwLTIyIDExIDExIDAgMCAxIDAgMjIiLz48cGF0aCBmaWxsPSIjZDlkOWQ5IiBkPSJtMTAuOTU1IDE2LjA1NS0zLjk1LTQuMTI1LTEuNDQ1IDEuMzg1IDUuMzcgNS42MSA5LjQ5NS05LjYtMS40Mi0xLjQwNXoiLz48L3N2Zz4=)}body #challenge-error-text{background-image:url(data:image/svg+xml;base64,PHN2ZyB4bWxucz0iaHR0cDovL3d3dy53My5vcmcvMjAwMC9zdmciIHdpZHRoPSIzMiIgaGVpZ2h0PSIzMiIgZmlsbD0ibm9uZSI+PHBhdGggZmlsbD0iI0IyMEYwMyIgZD0iTTE2IDNhMTMgMTMgMCAxIDAgMTMgMTNBMTMuMDE1IDEzLjAxNSAwIDAgMCAxNiAzbTAgMjRhMTEgMTEgMCAxIDEgMTEtMTEgMTEuMDEgMTEuMDEgMCAwIDEtMTEgMTEiLz48cGF0aCBmaWxsPSIjQjIwRjAzIiBkPSJNMTcuMDM4IDE4LjYxNUgxNC44N0wxNC41NjMgOS41aDIuNzgzem0tMS4wODQgMS40MjdxLjY2IDAgMS4wNTcuMzg4LjQwNy4zODkuNDA3Ljk5NCAwIC41OTYtLjQwNy45ODQtLjM5Ny4zOS0xLjA1Ny4zODktLjY1IDAtMS4wNTYtLjM4OS0uMzk4LS4zODktLjM5OC0uOTg0IDAtLjU5Ny4zOTgtLjk4NS40MDYtLjM5NyAxLjA1Ni0uMzk3Ii8+PC9zdmc+)}}body{display:flex;flex-direction:column;min-height:100vh}body.no-js .loading-spinner{visibility:hidden}body.no-js .challenge-running{display:none}body.dark{background-color:#222;color:#d9d9d9}body.dark a{color:#fff}body.dark a:hover{color:#ee730a;text-decoration:underline}body.dark .lds-ring div{border-color:#999 transparent transparent}body.dark .font-red{color:#b20f03}body.dark .pow-button{background-color:#4693ff;color:#1d1d1d}body.dark #challenge-success-text{background-image:url(data:image/svg+xml;base64,PHN2ZyB4bWxucz0iaHR0cDovL3d3dy53My5vcmcvMjAwMC9zdmciIHdpZHRoPSIzMiIgaGVpZ2h0PSIzMiIgZmlsbD0ibm9uZSIgdmlld0JveD0iMCAwIDI2IDI2Ij48cGF0aCBmaWxsPSIjZDlkOWQ5IiBkPSJNMTMgMGExMyAxMyAwIDEgMCAwIDI2IDEzIDEzIDAgMCAwIDAtMjZtMCAyNGExMSAxMSAwIDEgMSAwLTIyIDExIDExIDAgMCAxIDAgMjIiLz48cGF0aCBmaWxsPSIjZDlkOWQ5IiBkPSJtMTAuOTU1IDE2LjA1NS0zLjk1LTQuMTI1LTEuNDQ1IDEuMzg1IDUuMzcgNS42MSA5LjQ5NS05LjYtMS40Mi0xLjQwNXoiLz48L3N2Zz4=)}body.dark #challenge-error-text{background-image:url(data:image/svg+xml;base64,PHN2ZyB4bWxucz0iaHR0cDovL3d3dy53My5vcmcvMjAwMC9zdmciIHdpZHRoPSIzMiIgaGVpZ2h0PSIzMiIgZmlsbD0ibm9uZSI+PHBhdGggZmlsbD0iI0IyMEYwMyIgZD0iTTE2IDNhMTMgMTMgMCAxIDAgMTMgMTNBMTMuMDE1IDEzLjAxNSAwIDAgMCAxNiAzbTAgMjRhMTEgMTEgMCAxIDEgMTEtMTEgMTEuMDEgMTEuMDEgMCAwIDEtMTEgMTEiLz48cGF0aCBmaWxsPSIjQjIwRjAzIiBkPSJNMTcuMDM4IDE4LjYxNUgxNC44N0wxNC41NjMgOS41aDIuNzgzem0tMS4wODQgMS40MjdxLjY2IDAgMS4wNTcuMzg4LjQwNy4zODkuNDA3Ljk5NCAwIC41OTYtLjQwNy45ODQtLjM5Ny4zOS0xLjA1Ny4zODktLjY1IDAtMS4wNTYtLjM4OS0uMzk4LS4zODktLjM5OC0uOTg0IDAtLjU5Ny4zOTgtLjk4NS40MDYtLjM5NyAxLjA1Ni0uMzk3Ii8+PC9zdmc+)}body.light{background-color:transparent;color:#313131}body.light a{color:#0051c3}body.light a:hover{color:#ee730a;text-decoration:underline}body.light .lds-ring div{border-color:#595959 transparent transparent}body.light .font-red{color:#fc574a}body.light .pow-button{background-color:#003681;border-color:#003681;color:#fff}body.light #challenge-success-text{background-image:url(data:image/svg+xml;base64,PHN2ZyB4bWxucz0iaHR0cDovL3d3dy53My5vcmcvMjAwMC9zdmciIHdpZHRoPSIzMiIgaGVpZ2h0PSIzMiIgZmlsbD0ibm9uZSIgdmlld0JveD0iMCAwIDI2IDI2Ij48cGF0aCBmaWxsPSIjMzEzMTMxIiBkPSJNMTMgMGExMyAxMyAwIDEgMCAwIDI2IDEzIDEzIDAgMCAwIDAtMjZtMCAyNGExMSAxMSAwIDEgMSAwLTIyIDExIDExIDAgMCAxIDAgMjIiLz48cGF0aCBmaWxsPSIjMzEzMTMxIiBkPSJtMTAuOTU1IDE2LjA1NS0zLjk1LTQuMTI1LTEuNDQ1IDEuMzg1IDUuMzcgNS42MSA5LjQ5NS05LjYtMS40Mi0xLjQwNXoiLz48L3N2Zz4=)}body.light #challenge-error-text{background-image:url(data:image/svg+xml;base64,PHN2ZyB4bWxucz0iaHR0cDovL3d3dy53My5vcmcvMjAwMC9zdmciIHdpZHRoPSIzMiIgaGVpZ2h0PSIzMiIgZmlsbD0ibm9uZSI+PHBhdGggZmlsbD0iI2ZjNTc0YSIgZD0iTTE2IDNhMTMgMTMgMCAxIDAgMTMgMTNBMTMuMDE1IDEzLjAxNSAwIDAgMCAxNiAzbTAgMjRhMTEgMTEgMCAxIDEgMTEtMTEgMTEuMDEgMTEuMDEgMCAwIDEtMTEgMTEiLz48cGF0aCBmaWxsPSIjZmM1NzRhIiBkPSJNMTcuMDM4IDE4LjYxNUgxNC44N0wxNC41NjMgOS41aDIuNzgzem0tMS4wODQgMS40MjdxLjY2IDAgMS4wNTcuMzg4LjQwNy4zODkuNDA3Ljk5NCAwIC41OTYtLjQwNy45ODQtLjM5Ny4zOS0xLjA1Ny4zODktLjY1IDAtMS4wNTYtLjM4OS0uMzk4LS4zODktLjM5OC0uOTg0IDAtLjU5Ny4zOTgtLjk4NS40MDYtLjM5NyAxLjA1Ni0uMzk3Ii8+PC9zdmc+)}a{background-color:transparent;color:#0051c3;text-decoration:none;transition:color .15s ease}a:hover{color:#ee730a;text-decoration:underline}.main-content{margin:8rem auto;max-width:60rem;width:100%}.heading-favicon{height:2rem;margin-right:.5rem;width:2rem}@media (width <= 720px){.main-content{margin-top:4rem}.heading-favicon{height:1.5rem;width:1.5rem}}.footer,.main-content{padding-left:1.5rem;padding-right:1.5rem}.main-wrapper{align-items:center;display:flex;flex:1;flex-direction:column}.font-red{color:#b20f03}.spacer{margin:2rem 0}.h1{font-size:2.5rem;font-weight:500;line-height:3.75rem}.h2{font-weight:500}.core-msg,.h2{font-size:1.5rem;line-height:2.25rem}.body-text,.core-msg{font-weight:400}.body-text{font-size:1rem;line-height:1.25rem}@media (width <= 720px){.h1{font-size:1.5rem;line-height:1.75rem}.h2{font-size:1.25rem}.core-msg,.h2{line-height:1.5rem}.core-msg{font-size:1rem}}#challenge-error-text{background-image:url(data:image/svg+xml;base64,PHN2ZyB4bWxucz0iaHR0cDovL3d3dy53My5vcmcvMjAwMC9zdmciIHdpZHRoPSIzMiIgaGVpZ2h0PSIzMiIgZmlsbD0ibm9uZSI+PHBhdGggZmlsbD0iI2ZjNTc0YSIgZD0iTTE2IDNhMTMgMTMgMCAxIDAgMTMgMTNBMTMuMDE1IDEzLjAxNSAwIDAgMCAxNiAzbTAgMjRhMTEgMTEgMCAxIDEgMTEtMTEgMTEuMDEgMTEuMDEgMCAwIDEtMTEgMTEiLz48cGF0aCBmaWxsPSIjZmM1NzRhIiBkPSJNMTcuMDM4IDE4LjYxNUgxNC44N0wxNC41NjMgOS41aDIuNzgzem0tMS4wODQgMS40MjdxLjY2IDAgMS4wNTcuMzg4LjQwNy4zODkuNDA3Ljk5NCAwIC41OTYtLjQwNy45ODQtLjM5Ny4zOS0xLjA1Ny4zODktLjY1IDAtMS4wNTYtLjM4OS0uMzk4LS4zODktLjM5OC0uOTg0IDAtLjU5Ny4zOTgtLjk4NS40MDYtLjM5NyAxLjA1Ni0uMzk3Ii8+PC9zdmc+);padding-left:34px}#challenge-error-text,#challenge-success-text{background-repeat:no-repeat;background-size:contain}#challenge-success-text{background-image:url(data:image/svg+xml;base64,PHN2ZyB4bWxucz0iaHR0cDovL3d3dy53My5vcmcvMjAwMC9zdmciIHdpZHRoPSIzMiIgaGVpZ2h0PSIzMiIgZmlsbD0ibm9uZSIgdmlld0JveD0iMCAwIDI2IDI2Ij48cGF0aCBmaWxsPSIjMzEzMTMxIiBkPSJNMTMgMGExMyAxMyAwIDEgMCAwIDI2IDEzIDEzIDAgMCAwIDAtMjZtMCAyNGExMSAxMSAwIDEgMSAwLTIyIDExIDExIDAgMCAxIDAgMjIiLz48cGF0aCBmaWxsPSIjMzEzMTMxIiBkPSJtMTAuOTU1IDE2LjA1NS0zLjk1LTQuMTI1LTEuNDQ1IDEuMzg1IDUuMzcgNS42MSA5LjQ5NS05LjYtMS40Mi0xLjQwNXoiLz48L3N2Zz4=);padding-left:42px}.text-center{text-align:center}.pow-button{background-color:#0051c3;border:.063rem solid #0051c3;border-radius:.313rem;color:#fff;font-size:.875rem;line-height:1.313rem;margin:2rem 0;padding:.375rem 1rem;transition-duration:.2s;transition-property:background-color,border-color,color;transition-timing-function:ease}.pow-button:hover{background-color:#003681;border-color:#003681;color:#fff;cursor:pointer}.footer{font-size:.75rem;line-height:1.125rem;margin:0 auto;max-width:60rem;width:100%}.footer-inner{border-top:1px solid #d9d9d9;padding-bottom:1rem;padding-top:1rem}.clearfix:after{clear:both;content:\"\";display:table}.clearfix .column{float:left;padding-right:1.5rem;width:50%}.diagnostic-wrapper{margin-bottom:.5rem}.footer .ray-id{text-align:center}.footer .ray-id code{font-family:monaco,courier,monospace}.core-msg,.zone-name-title{overflow-wrap:break-word}@media (width <= 720px){.diagnostic-wrapper{display:flex;flex-wrap:wrap;justify-content:center}.clearfix:after{clear:none;content:none;display:initial;text-align:center}.column{padding-bottom:2rem}.clearfix .column{float:none;padding:0;width:auto;word-break:keep-all}.zone-name-title{margin-bottom:1rem}}.loading-spinner{height:76.391px}.lds-ring{display:inline-block;position:relative}.lds-ring,.lds-ring div{height:1.875rem;width:1.875rem}.lds-ring div{animation:lds-ring 1.2s cubic-bezier(.5,0,.5,1) infinite;border:.3rem solid transparent;border-radius:50%;border-top-color:#313131;box-sizing:border-box;display:block;position:absolute}.lds-ring div:first-child{animation-delay:-.45s}.lds-ring div:nth-child(2){animation-delay:-.3s}.lds-ring div:nth-child(3){animation-delay:-.15s}@keyframes lds-ring{0%{transform:rotate(0)}to{transform:rotate(1turn)}}@media screen and (-ms-high-contrast:active),screen and (-ms-high-contrast:none){.main-wrapper,body{display:block}}.rtl .heading-favicon{margin-left:.5rem;margin-right:0}.rtl #challenge-success-text{background-position:100%;padding-left:0;padding-right:42px}.rtl #challenge-error-text{background-position:100%;padding-left:0;padding-right:34px}</style><meta http-equiv=\"refresh\" content=\"390\"></head><body class=\"no-js\"><div class=\"main-wrapper\" role=\"main\"><div class=\"main-content\"><noscript><div id=\"challenge-error-title\"><div class=\"h2\"><span id=\"challenge-error-text\">Enable JavaScript and cookies to continue</span></div></div></noscript></div></div><script>(function(){window._cf_chl_opt={cvId: '3',cZone: \"wallpapercrafter.com\",cType: 'managed',cNounce: '1021',cRay: '8add76100be6e397',cHash: '6a17ffe40ff1013',cUPMDTk: \"\\/th8006\\/1564012-Bmw-K1200S-Motorcycle-bmw-k1200s-outdoors-no.jpg?__cf_chl_tk=9AMGZmql93qD.1LuKxrj7KcExMVoM8k9dc6V9v5k0nA-1722763118-0.0.1.1-4159\",cFPWv: 'b',cTTimeMs: '1000',cMTimeMs: '390000',cTplV: 5,cTplB: 'cf',cK: \"\",fa: \"\\/th8006\\/1564012-Bmw-K1200S-Motorcycle-bmw-k1200s-outdoors-no.jpg?__cf_chl_f_tk=9AMGZmql93qD.1LuKxrj7KcExMVoM8k9dc6V9v5k0nA-1722763118-0.0.1.1-4159\",md: \"1c2sL8d5jKl8uGCAudeCC2CcJ9J8YOi2JcDSW04jxGQ-1722763118-1.1.1.1-lIQxjRzGehpdDSs5D2oA8YIoUtvliXgTfPXXo6.HsjKqYEGC4K9RGA8VgP13xg.Xyclozq.9devJ17MXNMSFeumq89.GUxheubsviZswhvcIOB9RjijK9eoAzSutKExj38FgD.AE2CvLqJIRATpd_rvOvusoJFrCtsVH8Kplkgibk25efBGgaH85aqrE965aqRy4LH4EPh9JcuJ4ZnwPMZjgY9S2G6.vaGAvVgQDfavVWK0sTj0ogfi23kcbUEJTOkqZkmePA2Lq5HzXbPqgndyR994dwxzzkzKdpAztFbMkIKc7jjP3uNsSco3YWPplyU1s7XmLrSaI_V2QsfYPAdMEd6KVsZiPvY_PQPJ1CiceI.HuaqEZUrQ5KaxgBNBZe_nMBgXJvy_AzLb_cZg.NRO6yT6PLsSa1DrzZVZ9qDbsNYhJgTNrhOH7kt9H_LnmJGZk4nUpAzO5YLny9QHgi7ijAYZKJQnfrqN3BsPJBY4g4JDFdvR1dN14Re2ds9aA4wbe8YhvAqXIKXTbxAK5X29cc0l5NQ_1244bBpULUVl4GVCT0pDN3doIKxnLmet_EPPp1IOdpAp2tc3LtfG2VOcqXGVMD0IqhAuB6Fuk3Eb57ww123CdpgzO0n6afprRfwYoRpkiRS4mzh2_.j61dfgAuXL0zblMi71cAqU0GIuC8FSqQboRvz7.XMh9hy2i3ou5uZI7Ayau2k7Nc7Hxmg5MTi2Klbkm51Q4jvAb.N.9zkVbMaRploPHRMdAxBb6y5cbxfY8e6Kxdj.Zdl7aU4yc.cOcqyyt8ITmzaAD4GmuukzlQ14n3W0EIsOXuRU_lakE1IvWdpQllIvOgTi9PIEPYrKOH.YQeCDHgSbtZjA2MW43ceSes0fLXhS71iukTPR3BnDgwJmtNhC7J05GJwA3Je3EixxfybkdY.WLRWXU7NKoaxKyd0s_kq3dXbkRcXAKMIfB.pE4Ilg9VXaYBapdh0bgFSa88nEvbwA.J334I2ic.YTn3Xy9Y2C0wPwOzQ9ckSm7NqYt5z8cLsD1_fl0Utz9f4x8R_1hUtWRBsh4mr_wQQFGDkipSEW5L4WM8dd8I_VilK4tEh7oYFUzExBfd5_MHZ24OyWaleLP4N.73vEt6aPDwFe5LECelTXHDkNOehh3TaT0Nc2dOq6m.DH2ULiS7mqPJ.XN8ATu.GJqAVXZJ7E9b8wPL5ubFAf56n7ecnKLbGwaWeT2BG6a7MP3wEU2s3_68nsAB44AutQwp8epb.McPHxImm.TnK1HHAuNFIA9rVDQcOso_sB9bKDK0.yecOX80beyt2tnEVxYQqmFWm1HzW2Tq0XgAh2ecguvQEKmx7NJgaEQt_UQB3j7L7FJp9Dye7jQJcAm4hpvbddRr8rp9QI9EMvQT.m.YBn2O_nXiv.qS_KO1zJAxmaM3YcQHqFUEv4WaY2CYKETiA14v4oExJXvqdZMc7X86Sz5CKwoLc.nJ8HdZymFXAMi9XrgiMrAvKJjrbUE7y5IbT4_1kxWaEcUWA1ieGdjy4jNmvvPn_tf7Zzg6VDfRg\",mdrd: \"p8eVOyrHynd9WK04HZUVsc2In2eePNJC0EetIIqDSYs-1722763118-1.1.1.1-pA5eg3CrGKpRmP_b99XUlp5p6rJ.e9Yo22haOch2N6u9ttiW1qQM4RBH3LCYkJy3E6Yzj9dnxBZOP6GATNONXLSdztRHwPeoPYLgPySDN_96Xu3518k49w8g3bwefTsW9J2SG_r3sHCp7FzTglKBfw80qFsxxchHZ59jXghHHh2XFImKTdch54nSezWLTsd99sAIStJJsvl9ONJ0ASmaRtBMyFbvP8Gq3MpdVapoTa.zslYqzZeWhldRkzgUxWJ.OJvAetrGPWs9MUg0tkD8HKV3PuafSielgJF1BNiqOq6yBBE54WqSLljxj3C3NFyD8svMONazqVU7TnAG0p4A8JP7mVodmZxMk_oaShxGwT_R4lSnQBS0dDBwPjK1TaC4senIxv2l0cloPvQwRDr4CBPqd7z5sNri9iSqN232NKj6BP72trvCjOWRndhFNBWia8RzqiKcwZ2lDabA7iwotS7EejyhgAEsLo0qZQlaIj0.UD803hhRNYBK13CNgdC5WJFi9nWTTYAXoa0S8jGEBidMOQt5xt6fyow7rkzdjAxHKAnKed.swOAV3HJXk7lNDB17bvhHZmXYGMl9esZUu81dPn1yI_UJfyQRgMh9rZrKIGjSDZTqy.G4T5Nvm6oH2XWrm3cMiClt_AlrHA7WjFjMb0Dpr4wshjczMjvXfhdeQm33f7JBHrYOmNsySFkJhPU_ypCMgeV.0Cy_L._1PKDbf_NoEL98XnrnOQI99V2q3x9CUKnch5rezbCFS3e6HM.L9DPTRRwgwalF1TFZv5R31zqlDXIMIziWGO5VHuZQYNhHRvQhi56.5wHhshGIBiSFdFlDyyMMjts3bBUUzj1pcftIwaQaDNbEjuSxjxI1916jlV1kYSsNAHwcyyAk5H65IxkkzN04C5Q_pYJbNoipD20BOdBX58QLsejNpOpaL_lYdSeBFJkghPUGwH.vbqt6h1XVFn5ex9ChpYgGlYCNlgFfG_Hv63TUWWuiP9441PP4bia7M.fbnKkw7wOneI4QRoTO3jiYnCJi.sETg0Dc2qw.H5mvbP8B3USkG1tcORrUhpylwGZqvCUbXCCq6q_HNPgQh5lF6536kopXNrkatL1MUQd_c6TVGy2dkrKexarnl7q11rmiTKzToizFrIy6wdpose_LSfI18igwRaRD6e.yKvFK3cpkzl50o4dxyaE_Or8AnnV7XUDuigg1lod6SUb4X91Csry1.4NQbmxwsblx4hKEHRcPZN.7eA92RNFH4aFWHGYCw3ICZ8l8.GhX2t18HcX5WY3jMB0eFqzgKj_bKJwLWMVDlms1dgYqfBDKB_ervyCmC_b8kQqv8iZ6mnZ6MgzTj2zdOu4OVpYsOdvWp4_xQqtfzdTSWb2M96lC.xnmiNCZxaMgF7NtaIthVa_PGNFBsq3cM2V4Rki0mnc_1pz63OhUqyUDz3fuQjV2JYx0tlVlqb657JxvhBvGH2W_PXZE62Sws_MqpieaBJii4ukJjLmeWPguFoGqu0_jrdosUCFu3w1Q6XvNd.tUX4ryJo.2eLjmkfKsdeEEwwOg6gFyleLQLMmEJ1Jp4MtgRAGd130XOiAo1UZqzTKLEFXU9oc_kAQ9FwAmnMIjgZOtsBbwrekk3ve3eBemIFGt8cCuBoCqZmbr3_aq2TqJLFNuM8kqtP2JM2wgOBbQw9PSDRV5DvrHPNXDqOWiXpi2hFOEEbIQPqkPCuwr1UVvbKOEL8i3Jd58Oy5ayz.xxgb.kWu74C7Wn2i_Kr62r8USt9PosFfbxn5w2fSTnwHMYqlShsnu9ViPceyEO2hP5SGrdc2sKCiKxVb_dK0x5XNWGl6LvwNoDpdnw0Mg9A.RjygHYgO4uvq1KDXhihhbvhRPlQxUeJbMUeJ7_qXExVe0T.9hrHWmHLbODCTebMAr425D1xGspvhyXgt3P9xxywJBCVvlcrXG0_FwmWYa6d0sg4JQb6Q8T825XQ4aGHkNM9YXSLCjPH9Oqy6dR9Z0g491i7h.StJJGDuTcir2eatf4EXzKZXCRmEhTyuXPozcdaDT1bNe6Wf6P92JFICZEQWwg1WrKDRT1b5VKfzi_R32pUueRBNwiRU9ngRuu.QYD9Lx3GFP0wXxIAq4wc0lrk1WKzSzzFzSrluwV.i.Hs.IBlXKeQTFAewE63Im3mGuhBsA_m.lMjZnrnjHbUzUPJprFqBmrd9cVSi0lbkv3psHpbEHvMu7vlpnroLit6Qm6jIYUFBygYTq_tYEEe9L9DGeE9ZVb3SQ9fR1LdTEZ1qL_1JiD.dUI0e2M6ZEJTCSLhuSg2GwRgYc2hcWshwXNpCFtdVpK2po9.6n165IoxAYzziYEjv_hNqs.QX2gsKy6wb7laDgwtA6i945uJGTRTF2kStoTOkBcDLOPW8TU7pM350JJhqdJYKi651ZV.sWpFZq_O5PwUSrBsxuHRdV8A6F.d9BjQnOAkRxLTA\",cRq: {ru: 'aHR0cHM6Ly93YWxscGFwZXJjcmFmdGVyLmNvbS90aDgwMDYvMTU2NDAxMi1CbXctSzEyMDBTLU1vdG9yY3ljbGUtYm13LWsxMjAwcy1vdXRkb29ycy1uby5qcGc=',ra: 'TW96aWxsYS81LjAgKFdpbmRvd3MgTlQgMTAuMDsgV2luNjQ7IHg2NCkgQXBwbGVXZWJLaXQvNTM3LjM2IChLSFRNTCwgbGlrZSBHZWNrbykgQ2hyb21lLzg3LjAuNDI4MC44OCBTYWZhcmkvNTM3LjM2',rm: 'R0VU',d: 'anCHgEgx1eDbjrO1Dg4r0h0715xiG6ZblQDKBcAuVF636N00LUSiiPNhu/u38tnRean1k5QLmGoCuaw6PKo3MP/AVG0EXapGuBGZkB0aockZCpspwvDLsFhEo9DuGmYfIRC0LBnYBO08pARF7OEqDhjr4HzHGX0eDBlV4GMYdqQfNokl1gbhWsVU32mFMx+LmeB8X788SCi/DPYog8CCkkl6cTMewA1HM9gdKA3/iPmz0Jd9qTKUElvrQO9jqa1m/oC6n/5tRO1/UfPqGHCzqHnbOqwWot+72HgGMXK+OetHMe3mwysKcIXHvLzvZBPywA4M3+nFByI9F8smbyzRsxe/3Y5UJK/97rqXwVJTQ6utLpJKHC6DC8mIWK/PthyAdRA7uPL8bD8WyY+uumpBfwVN+nTW+1+Z15AfMvAEpbAhkSV5v1YaNd02BT9fF20mJ1QwmH3wHUXfQCK8bM4OawuorGSzSeS79IFed4U0Fwg=',t: 'MTcyMjc2MzExOC4wMDAwMDA=',cT: Math.floor(Date.now() / 1000),m: 'cG+JkK9uyqO3xYfnP+ZWC4ci8FP2McEfL4q2NUqKmmo=',i1: '2Gqk7yrldVYx+w1qLk7MSQ==',i2: 'JtUVXI8R+WnIJsKd/6SzFQ==',zh: 'jCk0erglBs3ZGPfuDjpD/8cMHfeUa3X1e30DVZT2UEc=',uh: 'mCb3uisLWL2fXM8cORPXdc2/l4ksZuamggq5sSmkyOY=',hh: '1ItXEJCM4uGL0c+nUcyOta5L5sfCoxF8yIQDc6yQf6A=',}};var cpo = document.createElement('script');cpo.src = '/cdn-cgi/challenge-platform/h/b/orchestrate/chl_page/v1?ray=8add76100be6e397';window._cf_chl_opt.cOgUHash = location.hash === '' && location.href.indexOf('#') !== -1 ? '#' : location.hash;window._cf_chl_opt.cOgUQuery = location.search === '' && location.href.slice(0, location.href.length - window._cf_chl_opt.cOgUHash.length).indexOf('?') !== -1 ? '?' : location.search;if (window.history && window.history.replaceState) {var ogU = location.pathname + window._cf_chl_opt.cOgUQuery + window._cf_chl_opt.cOgUHash;history.replaceState(null, null, \"\\/th8006\\/1564012-Bmw-K1200S-Motorcycle-bmw-k1200s-outdoors-no.jpg?__cf_chl_rt_tk=9AMGZmql93qD.1LuKxrj7KcExMVoM8k9dc6V9v5k0nA-1722763118-0.0.1.1-4159\" + window._cf_chl_opt.cOgUHash);cpo.onload = function() {history.replaceState(null, null, ogU);}}document.getElementsByTagName('head')[0].appendChild(cpo);}());</script><script defer src=\"https://static.cloudflareinsights.com/beacon.min.js/vcd15cbe7772f49c399c6a5babf22c1241717689176015\" integrity=\"sha512-ZpsOmlRQV6y907TI0dKBHq9Md29nnaEIPlkf84rnaERnq6zvWvPUqr2ft8M1aS28oN72PdrCzSjY4U6VaAw1EQ==\" data-cf-beacon='{\"rayId\":\"8add76100be6e397\",\"version\":\"2024.7.0\",\"r\":1,\"serverTiming\":{\"name\":{\"cfL4\":true}},\"token\":\"1bf9c061759941b7b6a2be8f72c14660\",\"b\":1}' crossorigin=\"anonymous\"></script>\n",
      "</body></html>\n",
      "46/64 images downloading\n",
      "Failed to download https://happy.videvo.net/videvo_files/video/premium/partners0212/thumbnails/BB_5cc3f625-12eb-47cf-95f7-d4039d450b98_small.jpg: <urlopen error [SSL: CERTIFICATE_VERIFY_FAILED] certificate verify failed: Hostname mismatch, certificate is not valid for 'happy.videvo.net'. (_ssl.c:997)>\n",
      "50/64 images downloading\n",
      "Searching for 'Motorcycle cloudy photo'\n",
      "14/64 images downloading\n",
      "Failed to download https://coolwallpapers.me/picsup/3104865-blue-sky_clouds_cloudy_field_grass_motorcycle_road_travel_vehicle.jpg: HTTP Error 403: Forbidden\n",
      "====Error Body====\n",
      "<!DOCTYPE html><html lang=\"en-US\"><head><title>Just a moment...</title><meta http-equiv=\"Content-Type\" content=\"text/html; charset=UTF-8\"><meta http-equiv=\"X-UA-Compatible\" content=\"IE=Edge\"><meta name=\"robots\" content=\"noindex,nofollow\"><meta name=\"viewport\" content=\"width=device-width,initial-scale=1\"><style>*{box-sizing:border-box;margin:0;padding:0}html{line-height:1.15;-webkit-text-size-adjust:100%;color:#313131}button,html{font-family:system-ui,-apple-system,BlinkMacSystemFont,Segoe UI,Roboto,Helvetica Neue,Arial,Noto Sans,sans-serif,Apple Color Emoji,Segoe UI Emoji,Segoe UI Symbol,Noto Color Emoji}@media (prefers-color-scheme:dark){body{background-color:#222;color:#d9d9d9}body a{color:#fff}body a:hover{color:#ee730a;text-decoration:underline}body .lds-ring div{border-color:#999 transparent transparent}body .font-red{color:#b20f03}body .pow-button{background-color:#4693ff;color:#1d1d1d}body #challenge-success-text{background-image:url(data:image/svg+xml;base64,PHN2ZyB4bWxucz0iaHR0cDovL3d3dy53My5vcmcvMjAwMC9zdmciIHdpZHRoPSIzMiIgaGVpZ2h0PSIzMiIgZmlsbD0ibm9uZSIgdmlld0JveD0iMCAwIDI2IDI2Ij48cGF0aCBmaWxsPSIjZDlkOWQ5IiBkPSJNMTMgMGExMyAxMyAwIDEgMCAwIDI2IDEzIDEzIDAgMCAwIDAtMjZtMCAyNGExMSAxMSAwIDEgMSAwLTIyIDExIDExIDAgMCAxIDAgMjIiLz48cGF0aCBmaWxsPSIjZDlkOWQ5IiBkPSJtMTAuOTU1IDE2LjA1NS0zLjk1LTQuMTI1LTEuNDQ1IDEuMzg1IDUuMzcgNS42MSA5LjQ5NS05LjYtMS40Mi0xLjQwNXoiLz48L3N2Zz4=)}body #challenge-error-text{background-image:url(data:image/svg+xml;base64,PHN2ZyB4bWxucz0iaHR0cDovL3d3dy53My5vcmcvMjAwMC9zdmciIHdpZHRoPSIzMiIgaGVpZ2h0PSIzMiIgZmlsbD0ibm9uZSI+PHBhdGggZmlsbD0iI0IyMEYwMyIgZD0iTTE2IDNhMTMgMTMgMCAxIDAgMTMgMTNBMTMuMDE1IDEzLjAxNSAwIDAgMCAxNiAzbTAgMjRhMTEgMTEgMCAxIDEgMTEtMTEgMTEuMDEgMTEuMDEgMCAwIDEtMTEgMTEiLz48cGF0aCBmaWxsPSIjQjIwRjAzIiBkPSJNMTcuMDM4IDE4LjYxNUgxNC44N0wxNC41NjMgOS41aDIuNzgzem0tMS4wODQgMS40MjdxLjY2IDAgMS4wNTcuMzg4LjQwNy4zODkuNDA3Ljk5NCAwIC41OTYtLjQwNy45ODQtLjM5Ny4zOS0xLjA1Ny4zODktLjY1IDAtMS4wNTYtLjM4OS0uMzk4LS4zODktLjM5OC0uOTg0IDAtLjU5Ny4zOTgtLjk4NS40MDYtLjM5NyAxLjA1Ni0uMzk3Ii8+PC9zdmc+)}}body{display:flex;flex-direction:column;min-height:100vh}body.no-js .loading-spinner{visibility:hidden}body.no-js .challenge-running{display:none}body.dark{background-color:#222;color:#d9d9d9}body.dark a{color:#fff}body.dark a:hover{color:#ee730a;text-decoration:underline}body.dark .lds-ring div{border-color:#999 transparent transparent}body.dark .font-red{color:#b20f03}body.dark .pow-button{background-color:#4693ff;color:#1d1d1d}body.dark #challenge-success-text{background-image:url(data:image/svg+xml;base64,PHN2ZyB4bWxucz0iaHR0cDovL3d3dy53My5vcmcvMjAwMC9zdmciIHdpZHRoPSIzMiIgaGVpZ2h0PSIzMiIgZmlsbD0ibm9uZSIgdmlld0JveD0iMCAwIDI2IDI2Ij48cGF0aCBmaWxsPSIjZDlkOWQ5IiBkPSJNMTMgMGExMyAxMyAwIDEgMCAwIDI2IDEzIDEzIDAgMCAwIDAtMjZtMCAyNGExMSAxMSAwIDEgMSAwLTIyIDExIDExIDAgMCAxIDAgMjIiLz48cGF0aCBmaWxsPSIjZDlkOWQ5IiBkPSJtMTAuOTU1IDE2LjA1NS0zLjk1LTQuMTI1LTEuNDQ1IDEuMzg1IDUuMzcgNS42MSA5LjQ5NS05LjYtMS40Mi0xLjQwNXoiLz48L3N2Zz4=)}body.dark #challenge-error-text{background-image:url(data:image/svg+xml;base64,PHN2ZyB4bWxucz0iaHR0cDovL3d3dy53My5vcmcvMjAwMC9zdmciIHdpZHRoPSIzMiIgaGVpZ2h0PSIzMiIgZmlsbD0ibm9uZSI+PHBhdGggZmlsbD0iI0IyMEYwMyIgZD0iTTE2IDNhMTMgMTMgMCAxIDAgMTMgMTNBMTMuMDE1IDEzLjAxNSAwIDAgMCAxNiAzbTAgMjRhMTEgMTEgMCAxIDEgMTEtMTEgMTEuMDEgMTEuMDEgMCAwIDEtMTEgMTEiLz48cGF0aCBmaWxsPSIjQjIwRjAzIiBkPSJNMTcuMDM4IDE4LjYxNUgxNC44N0wxNC41NjMgOS41aDIuNzgzem0tMS4wODQgMS40MjdxLjY2IDAgMS4wNTcuMzg4LjQwNy4zODkuNDA3Ljk5NCAwIC41OTYtLjQwNy45ODQtLjM5Ny4zOS0xLjA1Ny4zODktLjY1IDAtMS4wNTYtLjM4OS0uMzk4LS4zODktLjM5OC0uOTg0IDAtLjU5Ny4zOTgtLjk4NS40MDYtLjM5NyAxLjA1Ni0uMzk3Ii8+PC9zdmc+)}body.light{background-color:transparent;color:#313131}body.light a{color:#0051c3}body.light a:hover{color:#ee730a;text-decoration:underline}body.light .lds-ring div{border-color:#595959 transparent transparent}body.light .font-red{color:#fc574a}body.light .pow-button{background-color:#003681;border-color:#003681;color:#fff}body.light #challenge-success-text{background-image:url(data:image/svg+xml;base64,PHN2ZyB4bWxucz0iaHR0cDovL3d3dy53My5vcmcvMjAwMC9zdmciIHdpZHRoPSIzMiIgaGVpZ2h0PSIzMiIgZmlsbD0ibm9uZSIgdmlld0JveD0iMCAwIDI2IDI2Ij48cGF0aCBmaWxsPSIjMzEzMTMxIiBkPSJNMTMgMGExMyAxMyAwIDEgMCAwIDI2IDEzIDEzIDAgMCAwIDAtMjZtMCAyNGExMSAxMSAwIDEgMSAwLTIyIDExIDExIDAgMCAxIDAgMjIiLz48cGF0aCBmaWxsPSIjMzEzMTMxIiBkPSJtMTAuOTU1IDE2LjA1NS0zLjk1LTQuMTI1LTEuNDQ1IDEuMzg1IDUuMzcgNS42MSA5LjQ5NS05LjYtMS40Mi0xLjQwNXoiLz48L3N2Zz4=)}body.light #challenge-error-text{background-image:url(data:image/svg+xml;base64,PHN2ZyB4bWxucz0iaHR0cDovL3d3dy53My5vcmcvMjAwMC9zdmciIHdpZHRoPSIzMiIgaGVpZ2h0PSIzMiIgZmlsbD0ibm9uZSI+PHBhdGggZmlsbD0iI2ZjNTc0YSIgZD0iTTE2IDNhMTMgMTMgMCAxIDAgMTMgMTNBMTMuMDE1IDEzLjAxNSAwIDAgMCAxNiAzbTAgMjRhMTEgMTEgMCAxIDEgMTEtMTEgMTEuMDEgMTEuMDEgMCAwIDEtMTEgMTEiLz48cGF0aCBmaWxsPSIjZmM1NzRhIiBkPSJNMTcuMDM4IDE4LjYxNUgxNC44N0wxNC41NjMgOS41aDIuNzgzem0tMS4wODQgMS40MjdxLjY2IDAgMS4wNTcuMzg4LjQwNy4zODkuNDA3Ljk5NCAwIC41OTYtLjQwNy45ODQtLjM5Ny4zOS0xLjA1Ny4zODktLjY1IDAtMS4wNTYtLjM4OS0uMzk4LS4zODktLjM5OC0uOTg0IDAtLjU5Ny4zOTgtLjk4NS40MDYtLjM5NyAxLjA1Ni0uMzk3Ii8+PC9zdmc+)}a{background-color:transparent;color:#0051c3;text-decoration:none;transition:color .15s ease}a:hover{color:#ee730a;text-decoration:underline}.main-content{margin:8rem auto;max-width:60rem;width:100%}.heading-favicon{height:2rem;margin-right:.5rem;width:2rem}@media (width <= 720px){.main-content{margin-top:4rem}.heading-favicon{height:1.5rem;width:1.5rem}}.footer,.main-content{padding-left:1.5rem;padding-right:1.5rem}.main-wrapper{align-items:center;display:flex;flex:1;flex-direction:column}.font-red{color:#b20f03}.spacer{margin:2rem 0}.h1{font-size:2.5rem;font-weight:500;line-height:3.75rem}.h2{font-weight:500}.core-msg,.h2{font-size:1.5rem;line-height:2.25rem}.body-text,.core-msg{font-weight:400}.body-text{font-size:1rem;line-height:1.25rem}@media (width <= 720px){.h1{font-size:1.5rem;line-height:1.75rem}.h2{font-size:1.25rem}.core-msg,.h2{line-height:1.5rem}.core-msg{font-size:1rem}}#challenge-error-text{background-image:url(data:image/svg+xml;base64,PHN2ZyB4bWxucz0iaHR0cDovL3d3dy53My5vcmcvMjAwMC9zdmciIHdpZHRoPSIzMiIgaGVpZ2h0PSIzMiIgZmlsbD0ibm9uZSI+PHBhdGggZmlsbD0iI2ZjNTc0YSIgZD0iTTE2IDNhMTMgMTMgMCAxIDAgMTMgMTNBMTMuMDE1IDEzLjAxNSAwIDAgMCAxNiAzbTAgMjRhMTEgMTEgMCAxIDEgMTEtMTEgMTEuMDEgMTEuMDEgMCAwIDEtMTEgMTEiLz48cGF0aCBmaWxsPSIjZmM1NzRhIiBkPSJNMTcuMDM4IDE4LjYxNUgxNC44N0wxNC41NjMgOS41aDIuNzgzem0tMS4wODQgMS40MjdxLjY2IDAgMS4wNTcuMzg4LjQwNy4zODkuNDA3Ljk5NCAwIC41OTYtLjQwNy45ODQtLjM5Ny4zOS0xLjA1Ny4zODktLjY1IDAtMS4wNTYtLjM4OS0uMzk4LS4zODktLjM5OC0uOTg0IDAtLjU5Ny4zOTgtLjk4NS40MDYtLjM5NyAxLjA1Ni0uMzk3Ii8+PC9zdmc+);padding-left:34px}#challenge-error-text,#challenge-success-text{background-repeat:no-repeat;background-size:contain}#challenge-success-text{background-image:url(data:image/svg+xml;base64,PHN2ZyB4bWxucz0iaHR0cDovL3d3dy53My5vcmcvMjAwMC9zdmciIHdpZHRoPSIzMiIgaGVpZ2h0PSIzMiIgZmlsbD0ibm9uZSIgdmlld0JveD0iMCAwIDI2IDI2Ij48cGF0aCBmaWxsPSIjMzEzMTMxIiBkPSJNMTMgMGExMyAxMyAwIDEgMCAwIDI2IDEzIDEzIDAgMCAwIDAtMjZtMCAyNGExMSAxMSAwIDEgMSAwLTIyIDExIDExIDAgMCAxIDAgMjIiLz48cGF0aCBmaWxsPSIjMzEzMTMxIiBkPSJtMTAuOTU1IDE2LjA1NS0zLjk1LTQuMTI1LTEuNDQ1IDEuMzg1IDUuMzcgNS42MSA5LjQ5NS05LjYtMS40Mi0xLjQwNXoiLz48L3N2Zz4=);padding-left:42px}.text-center{text-align:center}.pow-button{background-color:#0051c3;border:.063rem solid #0051c3;border-radius:.313rem;color:#fff;font-size:.875rem;line-height:1.313rem;margin:2rem 0;padding:.375rem 1rem;transition-duration:.2s;transition-property:background-color,border-color,color;transition-timing-function:ease}.pow-button:hover{background-color:#003681;border-color:#003681;color:#fff;cursor:pointer}.footer{font-size:.75rem;line-height:1.125rem;margin:0 auto;max-width:60rem;width:100%}.footer-inner{border-top:1px solid #d9d9d9;padding-bottom:1rem;padding-top:1rem}.clearfix:after{clear:both;content:\"\";display:table}.clearfix .column{float:left;padding-right:1.5rem;width:50%}.diagnostic-wrapper{margin-bottom:.5rem}.footer .ray-id{text-align:center}.footer .ray-id code{font-family:monaco,courier,monospace}.core-msg,.zone-name-title{overflow-wrap:break-word}@media (width <= 720px){.diagnostic-wrapper{display:flex;flex-wrap:wrap;justify-content:center}.clearfix:after{clear:none;content:none;display:initial;text-align:center}.column{padding-bottom:2rem}.clearfix .column{float:none;padding:0;width:auto;word-break:keep-all}.zone-name-title{margin-bottom:1rem}}.loading-spinner{height:76.391px}.lds-ring{display:inline-block;position:relative}.lds-ring,.lds-ring div{height:1.875rem;width:1.875rem}.lds-ring div{animation:lds-ring 1.2s cubic-bezier(.5,0,.5,1) infinite;border:.3rem solid transparent;border-radius:50%;border-top-color:#313131;box-sizing:border-box;display:block;position:absolute}.lds-ring div:first-child{animation-delay:-.45s}.lds-ring div:nth-child(2){animation-delay:-.3s}.lds-ring div:nth-child(3){animation-delay:-.15s}@keyframes lds-ring{0%{transform:rotate(0)}to{transform:rotate(1turn)}}@media screen and (-ms-high-contrast:active),screen and (-ms-high-contrast:none){.main-wrapper,body{display:block}}.rtl .heading-favicon{margin-left:.5rem;margin-right:0}.rtl #challenge-success-text{background-position:100%;padding-left:0;padding-right:42px}.rtl #challenge-error-text{background-position:100%;padding-left:0;padding-right:34px}</style><meta http-equiv=\"refresh\" content=\"390\"></head><body class=\"no-js\"><div class=\"main-wrapper\" role=\"main\"><div class=\"main-content\"><noscript><div id=\"challenge-error-title\"><div class=\"h2\"><span id=\"challenge-error-text\">Enable JavaScript and cookies to continue</span></div></div></noscript></div></div><script>(function(){window._cf_chl_opt={cvId: '3',cZone: \"coolwallpapers.me\",cType: 'managed',cNounce: '91894',cRay: '8add76eeda2ae39f',cHash: 'cc1a99ab8ba9eb6',cUPMDTk: \"\\/picsup\\/3104865-blue-sky_clouds_cloudy_field_grass_motorcycle_road_travel_vehicle.jpg?__cf_chl_tk=Y201gYNiyj7B5nodIvhFJmTlchzhw9yoZHqB_iQIMKo-1722763153-0.0.1.1-4265\",cFPWv: 'b',cTTimeMs: '1000',cMTimeMs: '390000',cTplV: 5,cTplB: 'cf',cK: \"\",fa: \"\\/picsup\\/3104865-blue-sky_clouds_cloudy_field_grass_motorcycle_road_travel_vehicle.jpg?__cf_chl_f_tk=Y201gYNiyj7B5nodIvhFJmTlchzhw9yoZHqB_iQIMKo-1722763153-0.0.1.1-4265\",md: \"tQaqiuTED3rV8CbS9TIMPe3MkDygFN2Z9gFQKvlMFHU-1722763153-1.1.1.1-TvkBmXohQ2SMB8XThRq_YlzAVsm2cas4tRAOf5qA8ZcZxEogil_GUsXwFOo8iJX8kpy2kKNA4A_8ZM9NJXFqWQsHT7NEXaA_jqMPPtWuzeyh1fr2tMQyFVB35GySevmQeN1MjCBz45J1OIuJDMqW9.ezN8E7IEGYJn_13b_emojX7uvnrObkJE3lhQkFaoAdzyB7wbw8RIUqw0nugt87l5uiSjuJTclJ716bVrfDEBrUJIrbW0X6StgsXs8FHqWDCi2JEJqjfZimBBXVtR5TafijkGn5sDp9ycIla1l0cRrRIDjokbcy6MQvF6KCMcMWUHnxCYOUcldXfpljPUayw7v_aRzWitgnXVNhdj6pvkF42diJuJ7vJIlS7nOM6EMxEBPOR_NaIOUrCDCOTKms5rOEDqAKRJVICPAz_27Ny9kKlZ.toMnFk5qtzu5KQWXR97FrujTwVdCHfCQ4RmOZaX_jWeFkhqex8L3jukt7FflS.gxacSjaSnC5S56_BR9ov_ntDesBVQK4M5BbgrahEKBwYA0owRg.owwGfC4FQ66S9p15QNs9_bcYkY0b5Ph6DQyrt7C4Yhy0u23wauCQxP1q0BQzsh.Orgng7icJBy00b2Wgr3eetYHeoLNQ..wsU0USGLONEBuWT8keSdp_gm_YKCe36D5orzcbQNev.yLCZcl2YFMYR6AoFo71T3IG4xeZzfFLcf.5oLjgeJHnwDpuEm1VP2oTDilRjNctJ_NwrDag4x.puJOmrjIUJZ7yY60gWRKv_uAjo0JSgzBFvluEbaYhsYFPkjwo_i_ABmVcG8kBM.m.OIHoI_jVPv3ZAplACbKQ1d9r8zGoSRmjGoPUvumuEdM_4V2qVkrmaBAJApCYaVV6yPfgGD6f3cRVf_X6RWXocDF9aAS3VEJN2RLRZ3IdOJ0dmwDzjKf8t1puAPDvj_mu4HBWGbIcZi59CI9u9fZ89EQBGez8vfReafzq1mS9AVWHdgqrLaWHnxm2b9QlAmy5VWhfJD0ow8g9K9MS0ppVX.1a8oVHfAVe9VMtqgbYJ0qv1u_RRyLc0wqlxg02HwRRnm6VSwUvc.v6Qu38GliYrzgI_xAuo9vbffHvVqHXTVzJehlSKm104GoxcdcoM4SU8WNSbizJlTunazEhMIMzaYDydeUxlCW2Zxf7cmoBQDgdoD9ZIxe9weOTsectHyKgm0CrdnMbZa9Y7hXtXzuk4C93NmAz1L2jofEuaakvFyWu_Zpv_Q1qTXQ1TjUnpS55bgzTKlASFXARb9IrAhfTVhMcvpHmyj9TE0W8pYFIh9aQrpRaNAh02qlNPc1bISik4TrGABZK0jITx4pZAyg_Qke4baNA0.GPhMSt1bNwT1XzewueK5npGDvBS9RMj_9yk6IyiPcu5hP5uVAgIcc7rz3GO4vnqnPrj327YQH8tjQUGeTTDt5Z_BiNajYex2O27FDqPObLLKSacyQ2gMjXHhsCTUBHeSBk0WOcKdg1FGmHZLIR5FGOW_MsqHQ60QeNcZWXsAWoOR5n7Rsc.L7rfHKd_.W1yAXrCHIzL.UadKYXwd9rknCR8mcurQjv_QRqn.Tq_WUEZ2c1zLhLJwVPChfVZqcgFzIi7hgus6XOVOsFaIfJu8.tQjFL5r3MPcJGB59qOjqmBrci\",mdrd: \"CwME2.TEOyQT_cqoEfbKbAlWqcZpQa_SyVy5LFe8UwU-1722763153-1.1.1.1-BzpL1e1pZsaWz6szDHQjS_qD7NOIvqCnQuE8s.OzPutnJCb9ahSf9T2z83sLZk1VGl8lbLb27.xbuDItBlUvPCL.UN5bE46iZHBzbTPv71KeIT3WCVJwSQrk3r3EaltDgi7qqPHlJYL5ag8jLYEcUxtP2BlxQy7gtGqnZADdz9E75Iu7zPrteW9hRlIGiiirTN_3cNUHgg9UVVYu87hbaNA8bM2lIE8kEoPr7ezzmjvwDjkjCkErJp1qRls5gug0A.wasOMQWq.rxZrfA3IgBTWK9fHuMfYd7_bjTlsZoRRs_PNLxZWIhbvFEeRRczyw._YSPCYvtv0Aru1A_6TX8CTGpWPBbGFfnNPu4Tv10JDj6TnUAi5y6OGXRsTR_Z0nz7.jdB.EcqyyZn5zZeTZhLWv6kguSNlBeXuggPgOhmYZ7hTeDAwpG8cKBCBnRG5eYVbfteecnxtyXl.baRxOTJjOMR0XAOcLRRT0PWaRZTQxd38my0l3mZUsdCqeObglCS5Z_LD._dGRhXCxO1oFb_4A2Df.HYMHC_An9k3JHPd85KdZFEbJMGTzNWlIuicPb8WAzdtauoS6o3ocvtlDJ1HayXTJy.OlxErRbJQvNCbp6PyXgf2nIYBbkWJkGksPuSi0uEIJ5yojQv7VLVwJvBMSPvbw5Vec7KP2_ijojDYT2CINI207dR8DKQPDb4xMjMbYzE4ZDjySYp8buKlRuWl0I.3zhPGTrVUpmFsMUTibl99sujiENOrlk148WwiEuDkXz8VKlWKpORh.2Y3_3goRHwBcnbJl_wQbl8OoZnpU3Jp2wLfn2wv6cjNK16uZv8oG3y_g9GVK_MgDsmbb3yNeVKrQOh50Xzg.H.hH3jKrffY1BprhOiD4gemV2wzXjHBB61jVS796nPdmkHd7Ng6wozNBZDd1v.6EHJBfGzjrB1M1M6xIiFK4p1WAD43OPjnvar5CpIL6_pV4hK_kFoy96lu7qbj_OUCnqXR1O9QCKOYjARyDqsSbWUD6RyyevOT88CiWS4E4DQWQyE.SV.MyhZeMHWaK1sGAWZ08GHP8uRX.RPE49LN2vzMCb6cCA7pI5ibi1kpPsoT0qfxicKQpci5o0ipi1o4igS5n00NJY9PL_s0yWr1vRVZkUun3jRHeiN0U7c0P4xxpyk9lhr5lT.GQkTeg2zLOCIEsOnxLb3mM49.DHhrKemLqZc7EonW.nTA7k89xyDmr6oUkpljGNE0s37TIb8lrBEnSk7wyR_I8xWGQrOG32LpRDfyPrUOkBYEDEfsYAT4smJkESR2tPmgQuFZNfEoe_sBeI7VK3Ip_yeaAiQKo5q6ymYeHDN245YQRo76Ffe7DtnM1fDvpyMywlilgjuOY5fDgnTiRT8drqKu3KRDLeRNic3sqj2gpySAtE0fADLIiWyhodyGO2gfn5YeIb6JdbrVMW0suCWZ8iIzqn3DPrHzrWbuR5wZ3KdYcOjBCqzcnW4eJUoWMkSv3duMgYIaQRy8N2pmvyM1oSHeN469KJ5ZnZEav_VdYaG2pEOLtNZYg3QvIFebIps1ahz1KNBTA7cHX43wR4GWF2WrozgCvlB6ocaI3XTKCwc9OkYcwtF50BR9mwkKCwWDzpIBS2dl1yq9GEH.fF_SnkhNbHTkBRr2r98g85uTKvpNPDLUMhZw0JEyYcbWNqWvp4y_apFQ.Vbxzvh_QmpKuKl0U_WPnk9TG8NE5IVFdi5O0Z1nweneyBTO_AQbDTVuuCnGfEYEGEeHHFmI8.SNMVercxo0Uu3fH5qB0SHRTITqnEdTTcoLxNOT5FH2Ls.6AqdI2mKEji_UBwEEnsmZEUpYPlgrpO3FvbDN7HRqlxxLeCG9sSghjBMI_yw8SsBBtt4iYuZT0_pwEiiUnYIhHczTMlHruxhMDLdNF0CSZIcbO2UvacxaC6E62cg.5PpBPNPPr_cy4hWhxCC95_Lz.qwqzd9em7i3ezvL.xTKPtRVspqUbv9far5Izs19mPPqh63TWnRDPRLeS8UEY0qMuZ.u41an8xlTrdNEoHC0dLI4Sfq6VHPXcqf0lhPAp64LKLhoPBPMa1jr9FCIL1LDjS69vqeYIL7RJlD2nFEQOoCwvV.M4uC5BGiEdKpJlT2PUwLjpbIJwMnOuzhmfMfS3.zoiJBlP6LUltHQFQttd1mD0Nw5UtyJrxOc4rJxNfaLHTu4s9ae71pxmKSW7xc9hbCYlPakrLAKMJ9cuO7F6E2hce9vzb6PEL9asNoWsh4o87BD_gXvhuY7QO1tPGEvgfVysUXS8iRllH76l2utvx.sHiJg0x2SJhiICAHjUkf4BfOTGYA9YIqVkOLit.4m.H0ncvsyKQJrdR6TK9XvVB8B.MPyvtqIH_YOghipb.mVqypQERAA7l3GN_QgtPnjoO4VfVaxO_8Aht0HORb0yxbkHS6ORzdDgH53fo5yJEohJdKCtRKA9TQtwxyA\",cRq: {ru: 'aHR0cHM6Ly9jb29sd2FsbHBhcGVycy5tZS9waWNzdXAvMzEwNDg2NS1ibHVlLXNreV9jbG91ZHNfY2xvdWR5X2ZpZWxkX2dyYXNzX21vdG9yY3ljbGVfcm9hZF90cmF2ZWxfdmVoaWNsZS5qcGc=',ra: 'TW96aWxsYS81LjAgKFdpbmRvd3MgTlQgMTAuMDsgV2luNjQ7IHg2NCkgQXBwbGVXZWJLaXQvNTM3LjM2IChLSFRNTCwgbGlrZSBHZWNrbykgQ2hyb21lLzg3LjAuNDI4MC44OCBTYWZhcmkvNTM3LjM2',rm: 'R0VU',d: 'qVwd0nuSM62pM6nZIN0o+XGkUyandSGYJSRjsx0Fn29cvBERXR6hlUzQqcVnqSfIkWdbQu1ATYiOuci+ij9Ob2suhSmA2ZU+xO1Rqo5/f++PlRqDXiRuTmx+p51ZVdafR2q0JSW9f36zIeZLKdRaSwSZMhj7ttMVSapdY1Zh1bPLIQwL0DQu1inyQUXJrgItS143OJerw/sjA9y27reuKqIDf9F/vMOVzC0f37vkPORLQdJRd6s5wulI2+UkhQH+CmzlaBABPNCl6xLz9bMZK+5FwtDvRzBhXE2lbau1vZD4ziw9Xb6f2itSkmcI3vPJYFEAySWrNfr5Fjti54BYBjhideh1KZWx+oVOiF+Mr23s8c2xB4QhcNM/5hTkugsIMLGQKl+1siuBUppVPST0GYcT/86zCI+dNXjCJSNvgIpOJGDjOY3bM3YC+aLVw4oHpuxtoxo1PpLHpiby03bDDSrQh3ZZI+LVXH1zaU9HK8Qyw1GmhuB7z0hBKD14yTfBVXE5ZM71iWdjX5pU9/oLLg==',t: 'MTcyMjc2MzE1My4wMDAwMDA=',cT: Math.floor(Date.now() / 1000),m: 'yASiBguVM2y2ScKgZuFHcNrd5L0+/uMX/wV5z3j7GtQ=',i1: 'p40zkiR5UaLXpWlpsRlvww==',i2: 'a9CG2ofA9PmMeV+tf8jaWQ==',zh: 'r6C5sYq7y5XJMrxMC76jJEf4Ju8+6Awb2em+zXexFvI=',uh: 'mCb3uisLWL2fXM8cORPXdc2/l4ksZuamggq5sSmkyOY=',hh: '3REiiWndNc0JXoJr53Nygn0poQR41FBNibLIVDqi35k=',}};var cpo = document.createElement('script');cpo.src = '/cdn-cgi/challenge-platform/h/b/orchestrate/chl_page/v1?ray=8add76eeda2ae39f';window._cf_chl_opt.cOgUHash = location.hash === '' && location.href.indexOf('#') !== -1 ? '#' : location.hash;window._cf_chl_opt.cOgUQuery = location.search === '' && location.href.slice(0, location.href.length - window._cf_chl_opt.cOgUHash.length).indexOf('?') !== -1 ? '?' : location.search;if (window.history && window.history.replaceState) {var ogU = location.pathname + window._cf_chl_opt.cOgUQuery + window._cf_chl_opt.cOgUHash;history.replaceState(null, null, \"\\/picsup\\/3104865-blue-sky_clouds_cloudy_field_grass_motorcycle_road_travel_vehicle.jpg?__cf_chl_rt_tk=Y201gYNiyj7B5nodIvhFJmTlchzhw9yoZHqB_iQIMKo-1722763153-0.0.1.1-4265\" + window._cf_chl_opt.cOgUHash);cpo.onload = function() {history.replaceState(null, null, ogU);}}document.getElementsByTagName('head')[0].appendChild(cpo);}());</script></body></html>\n",
      "64/64 images downloading"
     ]
    }
   ],
   "source": [
    "# vehicles = ['Car', 'Truck', 'Motorcycle', 'Bicycle', 'Bus']\n",
    "# lighting_conditions = [\n",
    "#     'photo', 'daytime photo', 'afternoon photo', 'sun photo', 'sunny day photo', \n",
    "#     'bright sun photo', 'sunlight photo', 'noon photo', 'evening photo', 'dusk photo', \n",
    "#     'dawn photo', 'overcast photo', 'cloudy photo'\n",
    "# ]\n",
    "# path = Path('Vehicle')\n",
    "\n",
    "# for vehicle in vehicles:\n",
    "#     for condition in lighting_conditions:\n",
    "#         dest = path / vehicle\n",
    "#         dest.mkdir(exist_ok=True, parents=True)\n",
    "#         download_images(dest, f'{vehicle} {condition}', max_images=64)\n",
    "#         sleep(5)  # Pause between searches to avoid over-loading the server"
   ]
  },
  {
   "cell_type": "markdown",
   "metadata": {},
   "source": [
    "# Move All Images to Class Folders from Subfolders"
   ]
  },
  {
   "cell_type": "code",
   "execution_count": null,
   "metadata": {},
   "outputs": [
    {
     "name": "stdout",
     "output_type": "stream",
     "text": [
      "All images have been moved to their respective main folders.\n"
     ]
    }
   ],
   "source": [
    "# def move_images_to_main_folder(main_folder):\n",
    "#     main_folder = Path(main_folder)\n",
    "    \n",
    "#     for subfolder in main_folder.iterdir():\n",
    "#         if subfolder.is_dir():\n",
    "#             for sub_subfolder in subfolder.iterdir():\n",
    "#                 if sub_subfolder.is_dir():\n",
    "#                     for image_file in sub_subfolder.iterdir():\n",
    "#                         if image_file.is_file():\n",
    "#                             destination = subfolder / image_file.name\n",
    "#                             shutil.move(str(image_file), str(destination))\n",
    "#                     # Remove the now-empty sub_subfolder\n",
    "#                     sub_subfolder.rmdir()\n",
    "\n",
    "# # Define the main folder path\n",
    "# main_folder_path = Path('Vehicle')\n",
    "\n",
    "# # Move all images to their respective main folders\n",
    "# move_images_to_main_folder(main_folder_path)\n",
    "\n",
    "# print(\"All images have been moved to their respective main folders.\")\n"
   ]
  },
  {
   "cell_type": "markdown",
   "metadata": {},
   "source": [
    "# Split Data to Folders"
   ]
  },
  {
   "cell_type": "markdown",
   "metadata": {},
   "source": [
    "## Train, Test & Validation Split"
   ]
  },
  {
   "cell_type": "code",
   "execution_count": null,
   "metadata": {},
   "outputs": [],
   "source": [
    "# # Function to split dataset into train, validation, and test sets\n",
    "# def split_dataset(dataset_dir, output_dir, train_ratio=0.7, val_ratio=0.2, test_ratio=0.1):\n",
    "#     dataset_dir = Path(dataset_dir)\n",
    "#     output_dir = Path(output_dir)\n",
    "\n",
    "#     classes = [d.name for d in dataset_dir.iterdir() if d.is_dir()]\n",
    "\n",
    "#     for cls in classes:\n",
    "#         images = list((dataset_dir / cls).glob('*.*'))\n",
    "#         train, temp = train_test_split(images, test_size=val_ratio + test_ratio, random_state=42)\n",
    "#         val, test = train_test_split(temp, test_size=test_ratio / (test_ratio + val_ratio), random_state=42)\n",
    "\n",
    "#         # Function to copy images to respective directories\n",
    "#         def copy_images(images, subset):\n",
    "#             subset_dir = output_dir / subset / cls\n",
    "#             subset_dir.mkdir(parents=True, exist_ok=True)\n",
    "#             for img in images:\n",
    "#                 shutil.copy(img, subset_dir / img.name)\n",
    "\n",
    "#         copy_images(train, 'train')\n",
    "#         copy_images(val, 'val')\n",
    "#         copy_images(test, 'test')"
   ]
  },
  {
   "cell_type": "markdown",
   "metadata": {},
   "source": [
    "## Train & Test Split"
   ]
  },
  {
   "cell_type": "code",
   "execution_count": 29,
   "metadata": {},
   "outputs": [],
   "source": [
    "# # Function to split dataset into train and test sets\n",
    "# def split_dataset(dataset_dir, output_dir, train_ratio=0.85, test_ratio=0.15):\n",
    "#     dataset_dir = Path(dataset_dir)\n",
    "#     output_dir = Path(output_dir)\n",
    "\n",
    "#     classes = [d.name for d in dataset_dir.iterdir() if d.is_dir()]\n",
    "\n",
    "#     for cls in classes:\n",
    "#         images = list((dataset_dir / cls).glob('*.*'))\n",
    "#         train, test = train_test_split(images, test_size=test_ratio, random_state=42)\n",
    "\n",
    "#         # Function to copy images to respective directories\n",
    "#         def copy_images(images, subset):\n",
    "#             subset_dir = output_dir / subset / cls\n",
    "#             subset_dir.mkdir(parents=True, exist_ok=True)\n",
    "#             for img in images:\n",
    "#                 shutil.copy(img, subset_dir / img.name)\n",
    "\n",
    "#         copy_images(train, 'train')\n",
    "#         copy_images(test, 'test')"
   ]
  },
  {
   "cell_type": "markdown",
   "metadata": {},
   "source": [
    "## Run Split"
   ]
  },
  {
   "cell_type": "code",
   "execution_count": 30,
   "metadata": {},
   "outputs": [],
   "source": [
    "# # Paths\n",
    "# dataset_dir = 'Vehicle New'\n",
    "# output_dir = 'Vehicle_split'\n",
    "# split_dataset(dataset_dir, output_dir)"
   ]
  }
 ],
 "metadata": {
  "kernelspec": {
   "display_name": "py_projects",
   "language": "python",
   "name": "python3"
  },
  "language_info": {
   "codemirror_mode": {
    "name": "ipython",
    "version": 3
   },
   "file_extension": ".py",
   "mimetype": "text/x-python",
   "name": "python",
   "nbconvert_exporter": "python",
   "pygments_lexer": "ipython3",
   "version": "3.10.10"
  }
 },
 "nbformat": 4,
 "nbformat_minor": 2
}
